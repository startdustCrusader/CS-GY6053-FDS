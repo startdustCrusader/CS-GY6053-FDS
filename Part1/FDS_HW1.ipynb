{
  "cells": [
    {
      "cell_type": "markdown",
      "metadata": {
        "id": "1IWG66EBbLve"
      },
      "source": [
        "Student Name: Pranjal Jain\n",
        "\n",
        "Student Netid: pj2069"
      ]
    },
    {
      "cell_type": "markdown",
      "metadata": {
        "id": "SuO-o33fbLva"
      },
      "source": [
        "# **Foundations of Data Science Fall 2022 - Homework 0 (30 points)**\n",
        "\n",
        "---\n",
        "\n"
      ]
    },
    {
      "cell_type": "markdown",
      "source": [
        "### **Part 1: Pre-class survey (5 Points)**\n",
        "\n",
        "---\n",
        "\n",
        "\n",
        "- Fill in [this survey](https://forms.gle/RTARKZaQmP1WDzu18) which will help our course team understand student backgrounds and interests.\n"
      ],
      "metadata": {
        "id": "embhI1ZNj0OX"
      }
    },
    {
      "cell_type": "markdown",
      "metadata": {
        "id": "zNDZ8BY8bLvf"
      },
      "source": [
        "### **Part 2: Case study (5 Points)**\n",
        "\n",
        "---\n",
        "\n",
        "\n",
        "- Read [this article](https://drive.google.com/file/d/1zRxm8WrOtdeT1pQKgKcjzd3J1x8GLTtb/view?usp=sharing) in the New York Times.\n",
        "- Use what we've learned in class and from the book to describe how one could set Target's problem up as a predictive modeling problem, such that they could have gotten the results that they did.  Formulate your solution as a proposed plan using our data science terminology.  Include aspects of the Data Science Workflow that you see as relevant to solving the problem.  Be precise but concise."
      ]
    },
    {
      "cell_type": "markdown",
      "metadata": {
        "id": "CCIl5aB6bLvf"
      },
      "source": [
        "\n",
        "Place your answer here!\n",
        "\n",
        "Target’s problem can be described as a predictive modeling problem as they aim to build a model that predicts if customers are pregnant and are expecting their baby soon. They do this because: with a life-changing situation such as pregnancy,  they expect their customer’s shopping habits to change drastically and make Target their one store for all their needs. By offering coupons and exclusive deals to potential mothers, they can leverage the pregnancy to move to Target. \n",
        "\n",
        "The main task of Target is to predict when its customers are pregnant without explicitly knowing or asking. This can be done by analyzing what are the shopping habits of their pregnant customers. This problem has a multistep solution which is:\n",
        "\n",
        "1) First, collect data on shopping habits (from their own databases or others) along with characteristics data like age, occupation, ethnicity, home address, work address, and more, which can be acquired by either requesting or buying from external sources. \n",
        "\n",
        "2) All this data needs to be joined, cleaned, and id-ied in order to have detailed and structured data on an individual user. The data should be acquired in a meticulous manner and should have both pregnant and non-pregnant customer habits so that model can learn the difference and distinguish. \n",
        "\n",
        "3) The data needs to be analyzed and we need to find the Principal components which actually affect the possibility of pregnancy.\n",
        "\n",
        "4) The model can then be trained on a suitable classification model and learn the aspects and conditions that predict a pregnant customer. The model can use logistic regression, decision trees, SVMs, KNN, Neural Networks, and more. The data should also be portioned in order to have some data used just for verification.\n",
        "\n"
      ]
    },
    {
      "cell_type": "markdown",
      "metadata": {
        "id": "zre_pTeabLvg"
      },
      "source": [
        "### **Part 3: Exploring data in the command line (4 Points - 1 Point Each)**\n",
        "\n",
        "---\n",
        "\n",
        "\n",
        "\n",
        "\n",
        "*   For this part we will be using the data file `\"loansData.csv\"`. This file \n",
        "consists of records that pertain to some loan records in a local bank. There are 15 comma separated columns in this order: \n",
        ">> `CustNUm`, `Amount.Requested`,\t`Amount.Funded.By.Investors`,\t`Interest.Rate`,\t`Loan.Length`,\t`Loan.Purpose`,\t`Debt.To.Income.Ratio`,\t`State`,\t`Home.Ownership`,\t`Monthly.Income`,\t`FICO.Range`,\t`Open.CREDIT.Lines`,\t`Revolving.CREDIT.Balance`,\t`Inquiries.in.the.Last.6.Months`, and\t`Employment.Length`. \n",
        "*   These fields contain data of type `int`, `float`, and `string`, and you can also locate a file `\"data/loansData_columns.csv\"`in the data folder containing all the column names for easy reference.  Answer the following questions using Linux/Unix bash commands. All questions can be answered in one line (sometimes, with pipes)! Some questions will have many possible solutions. Don't forget that in iPython notebooks you must prefix all bash commands with an exclamation point, i.e. `\"!command arguments\"`.\n"
      ]
    },
    {
      "cell_type": "markdown",
      "metadata": {
        "id": "wPgt-hhAbLvg"
      },
      "source": [
        ">>**1**\\. *How many records (lines) are in this file?*\n",
        "\n",
        "\n"
      ]
    },
    {
      "cell_type": "code",
      "execution_count": 86,
      "metadata": {
        "id": "uMqN-CkUbLvh",
        "colab": {
          "base_uri": "https://localhost:8080/"
        },
        "outputId": "4f8f36ff-6df5-4d77-879b-3675dde0e681"
      },
      "outputs": [
        {
          "output_type": "stream",
          "name": "stdout",
          "text": [
            "2501 loansData.csv\n"
          ]
        }
      ],
      "source": [
        "# Place your code here\n",
        "\n",
        "!wc -l loansData.csv"
      ]
    },
    {
      "cell_type": "markdown",
      "metadata": {
        "id": "j_pjxcQ8bLvi"
      },
      "source": [
        ">>**2**\\. *How many unique `State` (the 8th field) are in this file? (hint: consider the 'cut' command and use pipe operator '|')*\n",
        "\n"
      ]
    },
    {
      "cell_type": "code",
      "execution_count": 87,
      "metadata": {
        "id": "WEs1ehJhbLvj",
        "colab": {
          "base_uri": "https://localhost:8080/"
        },
        "outputId": "ad2a48d7-1299-4cef-b0a4-4f0f912c6621"
      },
      "outputs": [
        {
          "output_type": "stream",
          "name": "stdout",
          "text": [
            "47\n"
          ]
        }
      ],
      "source": [
        "# Place your code here\n",
        "\n",
        "!cut -d \",\" -f 8 loansData.csv | sort | uniq -c | wc -l"
      ]
    },
    {
      "cell_type": "markdown",
      "metadata": {
        "id": "pJn3HfcKbLvj"
      },
      "source": [
        ">>**3**\\. *Rank all domains by the number of `Loan.Purpose` (the 6th field) they requested in descending order. (hint: consider the 'cut', 'uniq' and 'sort' commands and the pipe operator).*\n",
        "\n"
      ]
    },
    {
      "cell_type": "code",
      "execution_count": 88,
      "metadata": {
        "id": "8XA3nApCbLvk",
        "colab": {
          "base_uri": "https://localhost:8080/"
        },
        "outputId": "3270f143-4760-4f1a-d7a6-a8e1d31b9d71"
      },
      "outputs": [
        {
          "output_type": "stream",
          "name": "stdout",
          "text": [
            "\"wedding\"\n",
            "\"vacation\"\n",
            "\"small_business\"\n",
            "\"renewable_energy\"\n",
            "\"other\"\n",
            "\"moving\"\n",
            "\"medical\"\n",
            "\"major_purchase\"\n",
            "\"house\"\n",
            "\"home_improvement\"\n",
            "\"educational\"\n",
            "\"Debt.To.Income.Ratio\"\n",
            "\"debt_consolidation\"\n",
            "\"credit_card\"\n",
            "\"car\"\n"
          ]
        }
      ],
      "source": [
        "# Place your code here\n",
        "\n",
        "!cut -d \",\" -f 6 loansData.csv | sort -r | uniq"
      ]
    },
    {
      "cell_type": "markdown",
      "metadata": {
        "id": "vthOuqzRbLvk"
      },
      "source": [
        ">>**4**\\. *List all records which have `FICO.Range` (the 11th field) from 815-819. (hint: this can be done using 'grep')*\n",
        "\n",
        "\n"
      ]
    },
    {
      "cell_type": "code",
      "execution_count": 89,
      "metadata": {
        "id": "uCQ0dD1XbLvl",
        "colab": {
          "base_uri": "https://localhost:8080/"
        },
        "outputId": "6c20e60a-8ae4-4f82-9368-f755529b67a5"
      },
      "outputs": [
        {
          "output_type": "stream",
          "name": "stdout",
          "text": [
            "\"64884\",9000,9000,\"6.03%\",\"36 months\",\"vacation\",\"5.58%\",\"NJ\",\"MORTGAGE\",9583.33,\"815-819\",11,675,0,\"n/a\"\n",
            "\"55501\",8000,8000,\"6.03%\",\"36 months\",\"debt_consolidation\",\"4.51%\",\"OR\",\"MORTGAGE\",3500,\"815-819\",9,6737,0,\"10+ years\"\n",
            "\"93374\",16500,16500,\"6.03%\",\"36 months\",\"debt_consolidation\",\"22.65%\",\"CA\",\"MORTGAGE\",5416.67,\"815-819\",17,14835,0,\"10+ years\"\n",
            "\"90568\",4800,4800,\"6.62%\",\"36 months\",\"car\",\"10.42%\",\"TX\",\"MORTGAGE\",7291.67,\"815-819\",14,0,0,\"< 1 year\"\n",
            "\"80302\",16800,16800,\"7.90%\",\"60 months\",\"debt_consolidation\",\"3.34%\",\"FL\",\"MORTGAGE\",10666.67,\"815-819\",7,4757,0,\"10+ years\"\n",
            "\"5906\",12800,12787.71,\"8.94%\",\"36 months\",\"debt_consolidation\",\"0.18%\",\"AZ\",\"MORTGAGE\",2833.33,\"815-819\",7,306,0,\"4 years\"\n"
          ]
        }
      ],
      "source": [
        "# Place your code here\n",
        "\n",
        "!grep -w \"815-819\" loansData.csv"
      ]
    },
    {
      "cell_type": "markdown",
      "metadata": {
        "id": "QXUZ_U1NbLvl"
      },
      "source": [
        "### **Part 4: Dealing with data Pythonically (16 Points)**\n",
        "\n",
        "---\n",
        "\n"
      ]
    },
    {
      "cell_type": "code",
      "execution_count": 90,
      "metadata": {
        "id": "SfQY_MJ2bLvl"
      },
      "outputs": [],
      "source": [
        "# You might find these packages useful. You may import any others you want!\n",
        "import pandas as pd\n",
        "import numpy as np\n",
        "import matplotlib.pyplot as plt\n",
        "%matplotlib inline"
      ]
    },
    {
      "cell_type": "markdown",
      "metadata": {
        "id": "KpbpUMXsbLvm"
      },
      "source": [
        ">>**1**\\. **(1 Point)** *Load the data set `\"data/ads_dataset.tsv\"` and load it into a Python Pandas data frame called `ads`.*\n",
        "\n",
        "\n"
      ]
    },
    {
      "cell_type": "code",
      "execution_count": 91,
      "metadata": {
        "id": "bND3bVmnbLvm"
      },
      "outputs": [],
      "source": [
        "# Place your code here\n",
        "\n",
        "ads = pd.read_csv('new_ads_dataset.tsv',sep = '\\t')"
      ]
    },
    {
      "cell_type": "markdown",
      "metadata": {
        "id": "wnd29b7YbLvm"
      },
      "source": [
        ">>**2**\\. **(4 Points)** *Write a Python function called `getDfSummary()` that does the following:*\n",
        "- *Takes as input a data frame*\n",
        "- *For each variable in the data frame calculates the following features:*\n",
        "  - *`number_nan` to count the number of missing not-a-number values*\n",
        "  - *Ignoring missing, NA, and Null values:*\n",
        "    - *`number_distinct` to count the number of distinct values a variable can take on*\n",
        "    - *`mean`, `max`, `min`, `std` (standard deviation), and `25%`, `50%`, `75%` to correspond to the appropriate percentiles*\n",
        "- *All of these new features should be loaded in a new data frame. Each row of the data frame should be a variable from the input data frame, and the columns should be the new summary features.*\n",
        "- Returns this new data frame containing all of the summary information\n",
        "*italicized text*\n",
        ">>**Hint:** *The pandas `describe()` [(manual page)](http://pandas.pydata.org/pandas-docs/stable/generated/pandas.DataFrame.describe.html) method returns a useful series of values that can be used here.*\n",
        "\n"
      ]
    },
    {
      "cell_type": "code",
      "execution_count": 92,
      "metadata": {
        "id": "uzQUyVkkbLvn"
      },
      "outputs": [],
      "source": [
        "def getDfSummary(input_data):\n",
        "  column_names = input_data.columns.values\n",
        "\n",
        "  missingVal = []\n",
        "  uniqVals = []\n",
        "  maxVals = []\n",
        "  minVals = []\n",
        "  meanVals = []\n",
        "  stdVals = []\n",
        "  per25Vals = []\n",
        "  per50Vals = []\n",
        "  per75Vals = []\n",
        "\n",
        "\n",
        "  for i in column_names:\n",
        "\n",
        "    missingVal.append(input_data[i].isna().sum())\n",
        "    uniqVals.append(len(pd.unique(input_data[i].dropna())))\n",
        "    maxVals.append(input_data[i].dropna().max())\n",
        "    minVals.append(input_data[i].dropna().min())\n",
        "    meanVals.append(input_data[i].dropna().mean())\n",
        "    stdVals.append(input_data[i].dropna().std())\n",
        "    per25Vals.append(input_data[i].dropna().quantile(0.25))\n",
        "    per50Vals.append(input_data[i].dropna().quantile(0.50))\n",
        "    per75Vals.append(input_data[i].dropna().quantile(0.75))\n",
        "\n",
        "  output_data = pd.DataFrame({ 'name':column_names, 'missingVal': missingVal,\n",
        "                    'uniqVals': uniqVals, \n",
        "                    'maxVals': maxVals,\n",
        "                    'minVals': minVals,\n",
        "                    'meanVals': meanVals,\n",
        "                    'stdVals': stdVals,\n",
        "                    'per25Vals': per25Vals,\n",
        "                    'per50Vals': per50Vals,\n",
        "                    'per75Vals': per75Vals})\n",
        "  output_data\n",
        "\n",
        "  return output_data"
      ]
    },
    {
      "cell_type": "markdown",
      "metadata": {
        "id": "ZqO-X3xBbLvn"
      },
      "source": [
        ">>**3**\\. **(1 Point)** *How long does it take for your `getDfSummary()` function to work on your `ads` data frame? Show us the results below.*\n",
        "\n",
        ">>**Hint:** *`%timeit getDfSummary(ads)`*\n",
        "\n"
      ]
    },
    {
      "cell_type": "code",
      "execution_count": 94,
      "metadata": {
        "id": "S2RhhAwjbLvo",
        "colab": {
          "base_uri": "https://localhost:8080/"
        },
        "outputId": "ade785f8-2997-454a-9035-d3248d5b9ecf"
      },
      "outputs": [
        {
          "output_type": "stream",
          "name": "stdout",
          "text": [
            "108 ms ± 1.28 ms per loop (mean ± std. dev. of 7 runs, 10 loops each)\n"
          ]
        }
      ],
      "source": [
        "# Place your code here\n",
        "\n",
        "%timeit getDfSummary(ads)"
      ]
    },
    {
      "cell_type": "markdown",
      "metadata": {
        "id": "p-imGi3EbLvo"
      },
      "source": [
        ">>**4**\\. **(2 Points)** *Using the results returned from `getDfSummary()`, which fields, if any, contain missing `NaN` values?*\n",
        "\n",
        "\n"
      ]
    },
    {
      "cell_type": "code",
      "execution_count": 95,
      "metadata": {
        "id": "TD9vzCZ6bLvo",
        "colab": {
          "base_uri": "https://localhost:8080/",
          "height": 81
        },
        "outputId": "a0e86255-d200-4755-d6c8-971767744632"
      },
      "outputs": [
        {
          "output_type": "execute_result",
          "data": {
            "text/plain": [
              "         name  missingVal  uniqVals  maxVals  minVals  meanVals   stdVals  \\\n",
              "1  video_freq       52257        10     15.0      1.0  1.240653  0.782228   \n",
              "\n",
              "   per25Vals  per50Vals  per75Vals  \n",
              "1        1.0        1.0        1.0  "
            ],
            "text/html": [
              "\n",
              "  <div id=\"df-ec774daa-d068-4142-a16f-82e2fad5f936\">\n",
              "    <div class=\"colab-df-container\">\n",
              "      <div>\n",
              "<style scoped>\n",
              "    .dataframe tbody tr th:only-of-type {\n",
              "        vertical-align: middle;\n",
              "    }\n",
              "\n",
              "    .dataframe tbody tr th {\n",
              "        vertical-align: top;\n",
              "    }\n",
              "\n",
              "    .dataframe thead th {\n",
              "        text-align: right;\n",
              "    }\n",
              "</style>\n",
              "<table border=\"1\" class=\"dataframe\">\n",
              "  <thead>\n",
              "    <tr style=\"text-align: right;\">\n",
              "      <th></th>\n",
              "      <th>name</th>\n",
              "      <th>missingVal</th>\n",
              "      <th>uniqVals</th>\n",
              "      <th>maxVals</th>\n",
              "      <th>minVals</th>\n",
              "      <th>meanVals</th>\n",
              "      <th>stdVals</th>\n",
              "      <th>per25Vals</th>\n",
              "      <th>per50Vals</th>\n",
              "      <th>per75Vals</th>\n",
              "    </tr>\n",
              "  </thead>\n",
              "  <tbody>\n",
              "    <tr>\n",
              "      <th>1</th>\n",
              "      <td>video_freq</td>\n",
              "      <td>52257</td>\n",
              "      <td>10</td>\n",
              "      <td>15.0</td>\n",
              "      <td>1.0</td>\n",
              "      <td>1.240653</td>\n",
              "      <td>0.782228</td>\n",
              "      <td>1.0</td>\n",
              "      <td>1.0</td>\n",
              "      <td>1.0</td>\n",
              "    </tr>\n",
              "  </tbody>\n",
              "</table>\n",
              "</div>\n",
              "      <button class=\"colab-df-convert\" onclick=\"convertToInteractive('df-ec774daa-d068-4142-a16f-82e2fad5f936')\"\n",
              "              title=\"Convert this dataframe to an interactive table.\"\n",
              "              style=\"display:none;\">\n",
              "        \n",
              "  <svg xmlns=\"http://www.w3.org/2000/svg\" height=\"24px\"viewBox=\"0 0 24 24\"\n",
              "       width=\"24px\">\n",
              "    <path d=\"M0 0h24v24H0V0z\" fill=\"none\"/>\n",
              "    <path d=\"M18.56 5.44l.94 2.06.94-2.06 2.06-.94-2.06-.94-.94-2.06-.94 2.06-2.06.94zm-11 1L8.5 8.5l.94-2.06 2.06-.94-2.06-.94L8.5 2.5l-.94 2.06-2.06.94zm10 10l.94 2.06.94-2.06 2.06-.94-2.06-.94-.94-2.06-.94 2.06-2.06.94z\"/><path d=\"M17.41 7.96l-1.37-1.37c-.4-.4-.92-.59-1.43-.59-.52 0-1.04.2-1.43.59L10.3 9.45l-7.72 7.72c-.78.78-.78 2.05 0 2.83L4 21.41c.39.39.9.59 1.41.59.51 0 1.02-.2 1.41-.59l7.78-7.78 2.81-2.81c.8-.78.8-2.07 0-2.86zM5.41 20L4 18.59l7.72-7.72 1.47 1.35L5.41 20z\"/>\n",
              "  </svg>\n",
              "      </button>\n",
              "      \n",
              "  <style>\n",
              "    .colab-df-container {\n",
              "      display:flex;\n",
              "      flex-wrap:wrap;\n",
              "      gap: 12px;\n",
              "    }\n",
              "\n",
              "    .colab-df-convert {\n",
              "      background-color: #E8F0FE;\n",
              "      border: none;\n",
              "      border-radius: 50%;\n",
              "      cursor: pointer;\n",
              "      display: none;\n",
              "      fill: #1967D2;\n",
              "      height: 32px;\n",
              "      padding: 0 0 0 0;\n",
              "      width: 32px;\n",
              "    }\n",
              "\n",
              "    .colab-df-convert:hover {\n",
              "      background-color: #E2EBFA;\n",
              "      box-shadow: 0px 1px 2px rgba(60, 64, 67, 0.3), 0px 1px 3px 1px rgba(60, 64, 67, 0.15);\n",
              "      fill: #174EA6;\n",
              "    }\n",
              "\n",
              "    [theme=dark] .colab-df-convert {\n",
              "      background-color: #3B4455;\n",
              "      fill: #D2E3FC;\n",
              "    }\n",
              "\n",
              "    [theme=dark] .colab-df-convert:hover {\n",
              "      background-color: #434B5C;\n",
              "      box-shadow: 0px 1px 3px 1px rgba(0, 0, 0, 0.15);\n",
              "      filter: drop-shadow(0px 1px 2px rgba(0, 0, 0, 0.3));\n",
              "      fill: #FFFFFF;\n",
              "    }\n",
              "  </style>\n",
              "\n",
              "      <script>\n",
              "        const buttonEl =\n",
              "          document.querySelector('#df-ec774daa-d068-4142-a16f-82e2fad5f936 button.colab-df-convert');\n",
              "        buttonEl.style.display =\n",
              "          google.colab.kernel.accessAllowed ? 'block' : 'none';\n",
              "\n",
              "        async function convertToInteractive(key) {\n",
              "          const element = document.querySelector('#df-ec774daa-d068-4142-a16f-82e2fad5f936');\n",
              "          const dataTable =\n",
              "            await google.colab.kernel.invokeFunction('convertToInteractive',\n",
              "                                                     [key], {});\n",
              "          if (!dataTable) return;\n",
              "\n",
              "          const docLinkHtml = 'Like what you see? Visit the ' +\n",
              "            '<a target=\"_blank\" href=https://colab.research.google.com/notebooks/data_table.ipynb>data table notebook</a>'\n",
              "            + ' to learn more about interactive tables.';\n",
              "          element.innerHTML = '';\n",
              "          dataTable['output_type'] = 'display_data';\n",
              "          await google.colab.output.renderOutput(dataTable, element);\n",
              "          const docLink = document.createElement('div');\n",
              "          docLink.innerHTML = docLinkHtml;\n",
              "          element.appendChild(docLink);\n",
              "        }\n",
              "      </script>\n",
              "    </div>\n",
              "  </div>\n",
              "  "
            ]
          },
          "metadata": {},
          "execution_count": 95
        }
      ],
      "source": [
        "# Place your code here\n",
        "results = getDfSummary(ads)\n",
        "results.loc[(results['missingVal'] > 0)]"
      ]
    },
    {
      "cell_type": "markdown",
      "metadata": {
        "id": "Ir0uvV-gbLvo"
      },
      "source": [
        ">>**5**\\. **(4 Points)** *For the fields with missing values, does it look like the data is missing at random? Are there any other fields that correlate perfectly, or predict that the data is missing? If missing, what should the data value be?*\n",
        "\n",
        ">>**Hint:** *create another data frame that has just the records with a missing value. Get a summary of this data frame using `getDfSummary()` and compare the differences. Do some feature distributions change dramatically?*\n",
        "\n",
        ">>---\n",
        "\n"
      ]
    },
    {
      "cell_type": "code",
      "execution_count": 96,
      "metadata": {
        "id": "QcQhxXxBbLvo",
        "colab": {
          "base_uri": "https://localhost:8080/",
          "height": 488
        },
        "outputId": "dfdcf7d7-642f-433e-fcf0-4642bd6eeb7a"
      },
      "outputs": [
        {
          "output_type": "execute_result",
          "data": {
            "text/plain": [
              "                   name  missingVal  uniqVals      maxVals   minVals  \\\n",
              "0         is_video_user           0         1      0.00000    0.0000   \n",
              "1            video_freq       52257         0          NaN       NaN   \n",
              "2             call_freq           0        48     84.00000    1.0000   \n",
              "3        video_interval           0         1      0.00000    0.0000   \n",
              "4         call_interval           0      5112    184.91670    0.0000   \n",
              "5   expected_video_time           0         1      0.00000    0.0000   \n",
              "6    expected_call_time           0     13351     91.40192 -187.6156   \n",
              "7             last_bill           0       189    188.00000    0.0000   \n",
              "8             next_bill           0       189    188.00000    0.0000   \n",
              "9        multiple_video           0         1      0.00000    0.0000   \n",
              "10     multiple_carrier           0         2      1.00000    0.0000   \n",
              "11            uniq_urls           0       207    206.00000   -1.0000   \n",
              "12            num_texts           0      4570  37091.00000    1.0000   \n",
              "13             is_churn           0         2      1.00000    0.0000   \n",
              "\n",
              "      meanVals      stdVals  per25Vals  per50Vals   per75Vals  \n",
              "0     0.000000     0.000000        0.0        0.0    0.000000  \n",
              "1          NaN          NaN        NaN        NaN         NaN  \n",
              "2     1.651549     2.147955        1.0        1.0    2.000000  \n",
              "3     0.000000     0.000000        0.0        0.0    0.000000  \n",
              "4     5.686388    17.623555        0.0        0.0    0.041667  \n",
              "5     0.000000     0.000000        0.0        0.0    0.000000  \n",
              "6    -9.669298    31.239030        0.0        0.0    0.000000  \n",
              "7    65.741317    53.484622       19.0       52.0  106.000000  \n",
              "8    65.741317    53.484622       19.0       52.0  106.000000  \n",
              "9     0.000000     0.000000        0.0        0.0    0.000000  \n",
              "10    0.255602     0.436203        0.0        0.0    1.000000  \n",
              "11   86.656180    61.996711       30.0       75.0  155.000000  \n",
              "12  721.848518  1284.504018      126.0      318.0  803.000000  \n",
              "13    0.003024     0.054904        0.0        0.0    0.000000  "
            ],
            "text/html": [
              "\n",
              "  <div id=\"df-db14606e-dd46-4d5b-b20c-361d8373304e\">\n",
              "    <div class=\"colab-df-container\">\n",
              "      <div>\n",
              "<style scoped>\n",
              "    .dataframe tbody tr th:only-of-type {\n",
              "        vertical-align: middle;\n",
              "    }\n",
              "\n",
              "    .dataframe tbody tr th {\n",
              "        vertical-align: top;\n",
              "    }\n",
              "\n",
              "    .dataframe thead th {\n",
              "        text-align: right;\n",
              "    }\n",
              "</style>\n",
              "<table border=\"1\" class=\"dataframe\">\n",
              "  <thead>\n",
              "    <tr style=\"text-align: right;\">\n",
              "      <th></th>\n",
              "      <th>name</th>\n",
              "      <th>missingVal</th>\n",
              "      <th>uniqVals</th>\n",
              "      <th>maxVals</th>\n",
              "      <th>minVals</th>\n",
              "      <th>meanVals</th>\n",
              "      <th>stdVals</th>\n",
              "      <th>per25Vals</th>\n",
              "      <th>per50Vals</th>\n",
              "      <th>per75Vals</th>\n",
              "    </tr>\n",
              "  </thead>\n",
              "  <tbody>\n",
              "    <tr>\n",
              "      <th>0</th>\n",
              "      <td>is_video_user</td>\n",
              "      <td>0</td>\n",
              "      <td>1</td>\n",
              "      <td>0.00000</td>\n",
              "      <td>0.0000</td>\n",
              "      <td>0.000000</td>\n",
              "      <td>0.000000</td>\n",
              "      <td>0.0</td>\n",
              "      <td>0.0</td>\n",
              "      <td>0.000000</td>\n",
              "    </tr>\n",
              "    <tr>\n",
              "      <th>1</th>\n",
              "      <td>video_freq</td>\n",
              "      <td>52257</td>\n",
              "      <td>0</td>\n",
              "      <td>NaN</td>\n",
              "      <td>NaN</td>\n",
              "      <td>NaN</td>\n",
              "      <td>NaN</td>\n",
              "      <td>NaN</td>\n",
              "      <td>NaN</td>\n",
              "      <td>NaN</td>\n",
              "    </tr>\n",
              "    <tr>\n",
              "      <th>2</th>\n",
              "      <td>call_freq</td>\n",
              "      <td>0</td>\n",
              "      <td>48</td>\n",
              "      <td>84.00000</td>\n",
              "      <td>1.0000</td>\n",
              "      <td>1.651549</td>\n",
              "      <td>2.147955</td>\n",
              "      <td>1.0</td>\n",
              "      <td>1.0</td>\n",
              "      <td>2.000000</td>\n",
              "    </tr>\n",
              "    <tr>\n",
              "      <th>3</th>\n",
              "      <td>video_interval</td>\n",
              "      <td>0</td>\n",
              "      <td>1</td>\n",
              "      <td>0.00000</td>\n",
              "      <td>0.0000</td>\n",
              "      <td>0.000000</td>\n",
              "      <td>0.000000</td>\n",
              "      <td>0.0</td>\n",
              "      <td>0.0</td>\n",
              "      <td>0.000000</td>\n",
              "    </tr>\n",
              "    <tr>\n",
              "      <th>4</th>\n",
              "      <td>call_interval</td>\n",
              "      <td>0</td>\n",
              "      <td>5112</td>\n",
              "      <td>184.91670</td>\n",
              "      <td>0.0000</td>\n",
              "      <td>5.686388</td>\n",
              "      <td>17.623555</td>\n",
              "      <td>0.0</td>\n",
              "      <td>0.0</td>\n",
              "      <td>0.041667</td>\n",
              "    </tr>\n",
              "    <tr>\n",
              "      <th>5</th>\n",
              "      <td>expected_video_time</td>\n",
              "      <td>0</td>\n",
              "      <td>1</td>\n",
              "      <td>0.00000</td>\n",
              "      <td>0.0000</td>\n",
              "      <td>0.000000</td>\n",
              "      <td>0.000000</td>\n",
              "      <td>0.0</td>\n",
              "      <td>0.0</td>\n",
              "      <td>0.000000</td>\n",
              "    </tr>\n",
              "    <tr>\n",
              "      <th>6</th>\n",
              "      <td>expected_call_time</td>\n",
              "      <td>0</td>\n",
              "      <td>13351</td>\n",
              "      <td>91.40192</td>\n",
              "      <td>-187.6156</td>\n",
              "      <td>-9.669298</td>\n",
              "      <td>31.239030</td>\n",
              "      <td>0.0</td>\n",
              "      <td>0.0</td>\n",
              "      <td>0.000000</td>\n",
              "    </tr>\n",
              "    <tr>\n",
              "      <th>7</th>\n",
              "      <td>last_bill</td>\n",
              "      <td>0</td>\n",
              "      <td>189</td>\n",
              "      <td>188.00000</td>\n",
              "      <td>0.0000</td>\n",
              "      <td>65.741317</td>\n",
              "      <td>53.484622</td>\n",
              "      <td>19.0</td>\n",
              "      <td>52.0</td>\n",
              "      <td>106.000000</td>\n",
              "    </tr>\n",
              "    <tr>\n",
              "      <th>8</th>\n",
              "      <td>next_bill</td>\n",
              "      <td>0</td>\n",
              "      <td>189</td>\n",
              "      <td>188.00000</td>\n",
              "      <td>0.0000</td>\n",
              "      <td>65.741317</td>\n",
              "      <td>53.484622</td>\n",
              "      <td>19.0</td>\n",
              "      <td>52.0</td>\n",
              "      <td>106.000000</td>\n",
              "    </tr>\n",
              "    <tr>\n",
              "      <th>9</th>\n",
              "      <td>multiple_video</td>\n",
              "      <td>0</td>\n",
              "      <td>1</td>\n",
              "      <td>0.00000</td>\n",
              "      <td>0.0000</td>\n",
              "      <td>0.000000</td>\n",
              "      <td>0.000000</td>\n",
              "      <td>0.0</td>\n",
              "      <td>0.0</td>\n",
              "      <td>0.000000</td>\n",
              "    </tr>\n",
              "    <tr>\n",
              "      <th>10</th>\n",
              "      <td>multiple_carrier</td>\n",
              "      <td>0</td>\n",
              "      <td>2</td>\n",
              "      <td>1.00000</td>\n",
              "      <td>0.0000</td>\n",
              "      <td>0.255602</td>\n",
              "      <td>0.436203</td>\n",
              "      <td>0.0</td>\n",
              "      <td>0.0</td>\n",
              "      <td>1.000000</td>\n",
              "    </tr>\n",
              "    <tr>\n",
              "      <th>11</th>\n",
              "      <td>uniq_urls</td>\n",
              "      <td>0</td>\n",
              "      <td>207</td>\n",
              "      <td>206.00000</td>\n",
              "      <td>-1.0000</td>\n",
              "      <td>86.656180</td>\n",
              "      <td>61.996711</td>\n",
              "      <td>30.0</td>\n",
              "      <td>75.0</td>\n",
              "      <td>155.000000</td>\n",
              "    </tr>\n",
              "    <tr>\n",
              "      <th>12</th>\n",
              "      <td>num_texts</td>\n",
              "      <td>0</td>\n",
              "      <td>4570</td>\n",
              "      <td>37091.00000</td>\n",
              "      <td>1.0000</td>\n",
              "      <td>721.848518</td>\n",
              "      <td>1284.504018</td>\n",
              "      <td>126.0</td>\n",
              "      <td>318.0</td>\n",
              "      <td>803.000000</td>\n",
              "    </tr>\n",
              "    <tr>\n",
              "      <th>13</th>\n",
              "      <td>is_churn</td>\n",
              "      <td>0</td>\n",
              "      <td>2</td>\n",
              "      <td>1.00000</td>\n",
              "      <td>0.0000</td>\n",
              "      <td>0.003024</td>\n",
              "      <td>0.054904</td>\n",
              "      <td>0.0</td>\n",
              "      <td>0.0</td>\n",
              "      <td>0.000000</td>\n",
              "    </tr>\n",
              "  </tbody>\n",
              "</table>\n",
              "</div>\n",
              "      <button class=\"colab-df-convert\" onclick=\"convertToInteractive('df-db14606e-dd46-4d5b-b20c-361d8373304e')\"\n",
              "              title=\"Convert this dataframe to an interactive table.\"\n",
              "              style=\"display:none;\">\n",
              "        \n",
              "  <svg xmlns=\"http://www.w3.org/2000/svg\" height=\"24px\"viewBox=\"0 0 24 24\"\n",
              "       width=\"24px\">\n",
              "    <path d=\"M0 0h24v24H0V0z\" fill=\"none\"/>\n",
              "    <path d=\"M18.56 5.44l.94 2.06.94-2.06 2.06-.94-2.06-.94-.94-2.06-.94 2.06-2.06.94zm-11 1L8.5 8.5l.94-2.06 2.06-.94-2.06-.94L8.5 2.5l-.94 2.06-2.06.94zm10 10l.94 2.06.94-2.06 2.06-.94-2.06-.94-.94-2.06-.94 2.06-2.06.94z\"/><path d=\"M17.41 7.96l-1.37-1.37c-.4-.4-.92-.59-1.43-.59-.52 0-1.04.2-1.43.59L10.3 9.45l-7.72 7.72c-.78.78-.78 2.05 0 2.83L4 21.41c.39.39.9.59 1.41.59.51 0 1.02-.2 1.41-.59l7.78-7.78 2.81-2.81c.8-.78.8-2.07 0-2.86zM5.41 20L4 18.59l7.72-7.72 1.47 1.35L5.41 20z\"/>\n",
              "  </svg>\n",
              "      </button>\n",
              "      \n",
              "  <style>\n",
              "    .colab-df-container {\n",
              "      display:flex;\n",
              "      flex-wrap:wrap;\n",
              "      gap: 12px;\n",
              "    }\n",
              "\n",
              "    .colab-df-convert {\n",
              "      background-color: #E8F0FE;\n",
              "      border: none;\n",
              "      border-radius: 50%;\n",
              "      cursor: pointer;\n",
              "      display: none;\n",
              "      fill: #1967D2;\n",
              "      height: 32px;\n",
              "      padding: 0 0 0 0;\n",
              "      width: 32px;\n",
              "    }\n",
              "\n",
              "    .colab-df-convert:hover {\n",
              "      background-color: #E2EBFA;\n",
              "      box-shadow: 0px 1px 2px rgba(60, 64, 67, 0.3), 0px 1px 3px 1px rgba(60, 64, 67, 0.15);\n",
              "      fill: #174EA6;\n",
              "    }\n",
              "\n",
              "    [theme=dark] .colab-df-convert {\n",
              "      background-color: #3B4455;\n",
              "      fill: #D2E3FC;\n",
              "    }\n",
              "\n",
              "    [theme=dark] .colab-df-convert:hover {\n",
              "      background-color: #434B5C;\n",
              "      box-shadow: 0px 1px 3px 1px rgba(0, 0, 0, 0.15);\n",
              "      filter: drop-shadow(0px 1px 2px rgba(0, 0, 0, 0.3));\n",
              "      fill: #FFFFFF;\n",
              "    }\n",
              "  </style>\n",
              "\n",
              "      <script>\n",
              "        const buttonEl =\n",
              "          document.querySelector('#df-db14606e-dd46-4d5b-b20c-361d8373304e button.colab-df-convert');\n",
              "        buttonEl.style.display =\n",
              "          google.colab.kernel.accessAllowed ? 'block' : 'none';\n",
              "\n",
              "        async function convertToInteractive(key) {\n",
              "          const element = document.querySelector('#df-db14606e-dd46-4d5b-b20c-361d8373304e');\n",
              "          const dataTable =\n",
              "            await google.colab.kernel.invokeFunction('convertToInteractive',\n",
              "                                                     [key], {});\n",
              "          if (!dataTable) return;\n",
              "\n",
              "          const docLinkHtml = 'Like what you see? Visit the ' +\n",
              "            '<a target=\"_blank\" href=https://colab.research.google.com/notebooks/data_table.ipynb>data table notebook</a>'\n",
              "            + ' to learn more about interactive tables.';\n",
              "          element.innerHTML = '';\n",
              "          dataTable['output_type'] = 'display_data';\n",
              "          await google.colab.output.renderOutput(dataTable, element);\n",
              "          const docLink = document.createElement('div');\n",
              "          docLink.innerHTML = docLinkHtml;\n",
              "          element.appendChild(docLink);\n",
              "        }\n",
              "      </script>\n",
              "    </div>\n",
              "  </div>\n",
              "  "
            ]
          },
          "metadata": {},
          "execution_count": 96
        }
      ],
      "source": [
        "# Place your code and response here\n",
        "\n",
        "Missing = ads[ads['video_freq'].isnull()]\n",
        "getDfSummary(Missing)"
      ]
    },
    {
      "cell_type": "markdown",
      "source": [
        "'Video_freq' is missing when we have 'is_video_user', 'video_interal', 'expected_video_time' and 'multiple_video' as 0. We can substitute the values for 'is_video_user' to get 'Video_freq'."
      ],
      "metadata": {
        "id": "Kn3-q6nMlCun"
      }
    },
    {
      "cell_type": "markdown",
      "metadata": {
        "id": "yc1BQexKbLvo"
      },
      "source": [
        ">>**6**\\. (**2 Points)** *Which variables are binary?*\n",
        "\n",
        "\n"
      ]
    },
    {
      "cell_type": "code",
      "execution_count": 97,
      "metadata": {
        "id": "r9TsiNgZbLvp",
        "colab": {
          "base_uri": "https://localhost:8080/"
        },
        "outputId": "58d2af42-e082-4b89-b5ee-beac53bdcafb"
      },
      "outputs": [
        {
          "output_type": "execute_result",
          "data": {
            "text/plain": [
              "0        is_video_user\n",
              "9       multiple_video\n",
              "10    multiple_carrier\n",
              "13            is_churn\n",
              "Name: name, dtype: object"
            ]
          },
          "metadata": {},
          "execution_count": 97
        }
      ],
      "source": [
        "# Place your code here\n",
        "\n",
        "Binary = getDfSummary(ads)\n",
        "Binary[Binary['uniqVals'] == 2].name"
      ]
    },
    {
      "cell_type": "markdown",
      "metadata": {
        "id": "ufgrdnbUbLvp"
      },
      "source": [
        ">>**7**\\. **(0.5 Point)** *Let's take a deeper look into one of the features, the `num_texts`, which stands for the number of text messages. Let's try and understand the distribution of this field. We can do this using the hist() method and matplotlib. Draw a histogram graph of `num_texts` from the dataframe `ads`, set the title of the graph as `'Histogram of Number of Texts'`.*"
      ]
    },
    {
      "cell_type": "code",
      "execution_count": 98,
      "metadata": {
        "id": "eAylkv_KbLvp",
        "colab": {
          "base_uri": "https://localhost:8080/",
          "height": 312
        },
        "outputId": "ae06396d-c8cb-493c-9370-a9c3b214013c"
      },
      "outputs": [
        {
          "output_type": "execute_result",
          "data": {
            "text/plain": [
              "Text(0.5, 1.0, 'Histogram for Number of Texts')"
            ]
          },
          "metadata": {},
          "execution_count": 98
        },
        {
          "output_type": "display_data",
          "data": {
            "text/plain": [
              "<Figure size 432x288 with 1 Axes>"
            ],
            "image/png": "[encoded data removed]"
          },
          "metadata": {
            "needs_background": "light"
          }
        }
      ],
      "source": [
        "# Place your code here\n",
        "\n",
        "plt.hist(ads['num_texts'], bins = 70)\n",
        "plt.xlabel('Num of Text')\n",
        "plt.title('Histogram for Number of Texts')"
      ]
    },
    {
      "cell_type": "markdown",
      "metadata": {
        "id": "1HATKInIbLvp"
      },
      "source": [
        ">>**8**\\. **(1.5 Point)** *How would you characterize the shape of this distribution? Is there anything we can do to the texts variable to make the distribution more bell curved?*\n",
        "\n",
        ">>**Hint:** *Let's create a new column in the dataframe called `'log_num_texts'` and print a histogram `'Histogram of Log(Num Texts)'` of it. What might be some advantages of making such a transformation?*"
      ]
    },
    {
      "cell_type": "code",
      "execution_count": 99,
      "metadata": {
        "id": "M44w3jNLbLvp",
        "colab": {
          "base_uri": "https://localhost:8080/",
          "height": 312
        },
        "outputId": "029c5875-97eb-431f-f7db-237354e00da9"
      },
      "outputs": [
        {
          "output_type": "execute_result",
          "data": {
            "text/plain": [
              "Text(0.5, 1.0, 'Histogram of Log(Num Texts)')"
            ]
          },
          "metadata": {},
          "execution_count": 99
        },
        {
          "output_type": "display_data",
          "data": {
            "text/plain": [
              "<Figure size 432x288 with 1 Axes>"
            ],
            "image/png": "[encoded data removed]"
          },
          "metadata": {
            "needs_background": "light"
          }
        }
      ],
      "source": [
        "# Place your code and response here\n",
        "\n",
        "log_num_texts = np.log2(ads['num_texts'])\n",
        "plt.hist(log_num_texts, bins = 70)\n",
        "plt.xlabel('Log of Number of texts')\n",
        "plt.title('Histogram of Log(Num Texts)')"
      ]
    },
    {
      "cell_type": "markdown",
      "metadata": {
        "id": "PF884TNzbLvp"
      },
      "source": [
        "##  **End of Homework 0**"
      ]
    }
  ],
  "metadata": {
    "anaconda-cloud": {},
    "kernelspec": {
      "display_name": "Python 3",
      "language": "python",
      "name": "python3"
    },
    "language_info": {
      "codemirror_mode": {
        "name": "ipython",
        "version": 3
      },
      "file_extension": ".py",
      "mimetype": "text/x-python",
      "name": "python",
      "nbconvert_exporter": "python",
      "pygments_lexer": "ipython3",
      "version": "3.8.5"
    },
    "colab": {
      "provenance": [],
      "collapsed_sections": []
    }
  },
  "nbformat": 4,
  "nbformat_minor": 0
}