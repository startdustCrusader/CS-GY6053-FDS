{
  "cells": [
    {
      "cell_type": "markdown",
      "metadata": {
        "id": "1_FqNipzW5lv"
      },
      "source": [
        "# **Foundations of Data Science Fall 2022 - Homework 2 (30 points)**\n",
        "\n",
        "### Student Name: Pranjal Jain\n",
        "### Student Net Id: pj2069\n",
        "\n",
        "---"
      ]
    },
    {
      "cell_type": "markdown",
      "metadata": {
        "id": "XRYNUuouW5lz"
      },
      "source": [
        "### **Part 1: Preparing a Training Set and Training a Decision Tree (10 Points)**\n",
        "\n",
        "---\n",
        "\n",
        "\n"
      ]
    },
    {
      "cell_type": "markdown",
      "metadata": {
        "id": "JQwmLw2bNlc9"
      },
      "source": [
        "This is a hands-on task where we build a predictive model using Decision Trees discussed in class. For this part, we will be using the data in `cell2cell_data.csv` (you can find this on NYU Brightspace).\n",
        "\n",
        "These historical data consist of 39,859 customers: 19,901 customers that churned (i.e., left the company) and 19,958 that did not churn (see the `\"churndep\"` variable). Here are the data set's 11 possible predictor variables for churning behavior: \n",
        "\n",
        "```\n",
        "Pos.  Var. Name  Var. Description\n",
        "----- ---------- --------------------------------------------------------------\n",
        "1     revenue    Mean monthly revenue in dollars\n",
        "2     outcalls   Mean number of outbound voice calls\n",
        "3     incalls    Mean number of inbound voice calls\n",
        "4     months     Months in Service\n",
        "5     eqpdays    Number of days the customer has had his/her current equipment\n",
        "6     webcap     Handset is web capable\n",
        "7     marryyes   Married (1=Yes; 0=No)\n",
        "8     travel     Has traveled to non-US country (1=Yes; 0=No)\n",
        "9     pcown      Owns a personal computer (1=Yes; 0=No)\n",
        "10    creditcd   Possesses a credit card (1=Yes; 0=No)\n",
        "11    retcalls   Number of calls previously made to retention team\n",
        "```\n",
        "\n",
        "The 12th column, the dependent variable `\"churndep\"`, equals 1 if the customer churned, and 0 otherwise. "
      ]
    },
    {
      "cell_type": "code",
      "execution_count": 55,
      "metadata": {
        "id": "fW7Wkd0EM9uF"
      },
      "outputs": [],
      "source": [
        "import warnings\n",
        "warnings.filterwarnings('ignore')\n",
        "warnings.filterwarnings(action='once')\n"
      ]
    },
    {
      "cell_type": "code",
      "execution_count": 56,
      "metadata": {
        "id": "G6iYrUmVQGt2"
      },
      "outputs": [],
      "source": [
        "import pandas as pd\n",
        "import numpy as np\n",
        "import matplotlib.pyplot as plt\n",
        "from numpy import math\n",
        "from sklearn.tree import DecisionTreeClassifier\n",
        "from sklearn import metrics\n",
        "from sklearn.model_selection import KFold\n",
        "from collections import defaultdict\n",
        "import statistics\n",
        "import seaborn as sns\n",
        "from sklearn import tree\n",
        "%matplotlib inline"
      ]
    },
    {
      "cell_type": "markdown",
      "metadata": {
        "id": "eOZYR7zgW5l0"
      },
      "source": [
        "1\\. Load the data and prepare it for modeling. Note that the features are already processed for you, so the only thing needed here is split the data into training and testing. Use pandas to create two data frames: train_df and test_df, where train_df has 80% of the data chosen uniformly at random without replacement (test_df should have the other 20%). Also, make sure to write your own code to do the splits. You may use any random() function numpy but do not use the data splitting functions from Sklearn.<br><br>\n",
        "\n",
        "(2 Points)"
      ]
    },
    {
      "cell_type": "code",
      "execution_count": 57,
      "metadata": {
        "id": "qgt6ehBiPiQB"
      },
      "outputs": [],
      "source": [
        "# Place your code here\n",
        "df = pd.read_csv('cell2cell_data.csv')\n",
        "training_df = df.sample(frac = 0.8) \n",
        "testing_df = df.drop(training_df.index)"
      ]
    },
    {
      "cell_type": "markdown",
      "metadata": {
        "id": "UFVzQ0DoW5l2"
      },
      "source": [
        "2\\. Now build and train a decision tree classifier using `DecisionTreeClassifier()` [(manual page)](http://scikit-learn.org/stable/modules/generated/sklearn.tree.DecisionTreeClassifier.html) on train_df to predict the `\"churndep\"` target variable. Make sure to use `criterion='entropy'` when instantiating an instance of `DecisionTreeClassifier()`. For all other settings you should use all of the default options.\n",
        "\n",
        "(1 Point)"
      ]
    },
    {
      "cell_type": "code",
      "execution_count": 58,
      "metadata": {
        "colab": {
          "base_uri": "https://localhost:8080/",
          "height": 0
        },
        "id": "v2-FPpHjW5l3",
        "outputId": "0da66f41-c892-488a-bf0c-77a32036b6de"
      },
      "outputs": [
        {
          "output_type": "execute_result",
          "data": {
            "text/plain": [
              "DecisionTreeClassifier(criterion='entropy')"
            ]
          },
          "metadata": {},
          "execution_count": 58
        }
      ],
      "source": [
        "# Place your code here\n",
        "X_features = ['revenue','outcalls','incalls','months','eqpdays','webcap','marryyes','travel','pcown','creditcd','retcalls']\n",
        "Y_target = ['churndep']\n",
        "classifierDecisionTree = DecisionTreeClassifier(criterion= 'entropy')\n",
        "classifierDecisionTree.fit(training_df[X_features], training_df[Y_target])"
      ]
    },
    {
      "cell_type": "markdown",
      "metadata": {
        "id": "urJi_aG2W5l4"
      },
      "source": [
        "3\\. Using the resulting model from 1.2, show a bar plot of feature names and their feature importance (hint: check the attributes of the `DecisionTreeClassifier()` object directly in IPython or check the manual!).\n",
        "\n",
        "(3 Points)"
      ]
    },
    {
      "cell_type": "code",
      "execution_count": 59,
      "metadata": {
        "colab": {
          "base_uri": "https://localhost:8080/",
          "height": 503
        },
        "id": "yZPfCT4oW5l4",
        "outputId": "fb22c7cb-bed9-4f8a-cafa-60426fbabeb9"
      },
      "outputs": [
        {
          "output_type": "execute_result",
          "data": {
            "text/plain": [
              "Text(0, 0.5, 'Feature Impact')"
            ]
          },
          "metadata": {},
          "execution_count": 59
        },
        {
          "output_type": "display_data",
          "data": {
            "text/plain": [
              "<Figure size 1080x540 with 1 Axes>"
            ],
            "image/png": "[encoded data removed]"
          },
          "metadata": {
            "needs_background": "light"
          }
        }
      ],
      "source": [
        "# Place your code here\n",
        "y = classifierDecisionTree.feature_importances_\n",
        "x = ['revenue','outcalls','incalls','months','eqpdays','webcap','marryyes','travel','pcown','creditcd','retcalls']\n",
        "plt.figure(figsize=(15, 7.5))\n",
        "plt.bar(x, y)\n",
        "plt.title('Feature vs Feature Impact')\n",
        "plt.xlabel('Feature')\n",
        "plt.ylabel('Feature Impact')"
      ]
    },
    {
      "cell_type": "markdown",
      "metadata": {
        "id": "qrtv9VFZW5l5"
      },
      "source": [
        "4\\. Is the relationship between the top 3 most important features (as measured here) negative or positive? If your marketing director asked you to explain the top 3 drivers of churn, how would you interpret the relationship between these 3 features and the churn outcome?  What \"real-life\" connection can you draw between each variable and churn?\n",
        "\n",
        "(2 Points)"
      ]
    },
    {
      "cell_type": "code",
      "execution_count": 60,
      "metadata": {
        "colab": {
          "base_uri": "https://localhost:8080/",
          "height": 298
        },
        "id": "NTf_FsIlW5l6",
        "outputId": "5e1efee6-6674-4780-8738-6a83a9fa46ee"
      },
      "outputs": [
        {
          "output_type": "execute_result",
          "data": {
            "text/plain": [
              "Text(0.5, 1.0, 'Correlation for top three features')"
            ]
          },
          "metadata": {},
          "execution_count": 60
        },
        {
          "output_type": "display_data",
          "data": {
            "text/plain": [
              "<Figure size 432x288 with 2 Axes>"
            ],
            "image/png": "[encoded data removed]"
          },
          "metadata": {
            "needs_background": "light"
          }
        }
      ],
      "source": [
        "# Place your code here\n",
        "important_features = ['revenue','outcalls','eqpdays']\n",
        "df_corr = df[important_features]\n",
        "corr_matrix = df_corr.corr()\n",
        "sns.heatmap(corr_matrix, annot=True)\n",
        "plt.title('Correlation for top three features')"
      ]
    },
    {
      "cell_type": "markdown",
      "source": [
        "The top three important features are (in order):\n",
        "\n",
        "\n",
        "1.   revenue\n",
        "2.   outcalls\n",
        "3.   eqpdays\n",
        "\n",
        "Revenue and Outcalls have a high positive correlation. eqpdays has a less negative correlation with both of them\n",
        "\n",
        "High revenue and High Outcalls equates to less churn due to more use of services. High EQPdays correlates to more churn meaning equiment is being used for more days\n",
        "\n",
        "By increasing outcalls and revenue, and decreasing epqdays we can decrease churn. We can do this by getting them to use as many services as possible and make more calls. We can also upgrade the product to reduce epqdays.\n",
        "\n"
      ],
      "metadata": {
        "id": "NCZW5Zrl8z8s"
      }
    },
    {
      "cell_type": "markdown",
      "source": [],
      "metadata": {
        "id": "N6J-63MH9KkA"
      }
    },
    {
      "cell_type": "markdown",
      "metadata": {
        "id": "COSPdyw6W5l6"
      },
      "source": [
        "5\\. Using the classifier built in 1.2, try predicting `\"churndep\"` on both the train_df and test_df data sets. What is the accuracy on each?\n",
        "\n",
        "(2 Points)"
      ]
    },
    {
      "cell_type": "code",
      "execution_count": 61,
      "metadata": {
        "colab": {
          "base_uri": "https://localhost:8080/",
          "height": 0
        },
        "id": "Y82nH7NnW5l7",
        "outputId": "bbdfc0a9-891d-44e0-dc56-cd0969c2f768"
      },
      "outputs": [
        {
          "output_type": "stream",
          "name": "stdout",
          "text": [
            "Train Acc: 0.9998744743613883\n",
            "Test Acc: 0.536086356219405\n"
          ]
        }
      ],
      "source": [
        "# Place your code here\n",
        "Y_trainpred = classifierDecisionTree.predict(training_df[X_features])\n",
        "print(\"Train Acc:\",metrics.accuracy_score(training_df[Y_target], Y_trainpred))\n",
        "Y_pred = classifierDecisionTree.predict(testing_df[X_features])\n",
        "print(\"Test Acc:\",metrics.accuracy_score(testing_df[Y_target], Y_pred))"
      ]
    },
    {
      "cell_type": "markdown",
      "metadata": {
        "id": "rj8ABZTZW5l7"
      },
      "source": [
        "### **Part 2 - Finding a Good Decision Tree (Total 10 Points)**\n"
      ]
    },
    {
      "cell_type": "markdown",
      "metadata": {
        "id": "0uBeh5FLOKxS"
      },
      "source": [
        "The default options for your decision tree may not be optimal. We need to analyze whether tuning the parameters can improve the accuracy of the classifier.  For the following options `min_samples_split` and `min_samples_leaf`:"
      ]
    },
    {
      "cell_type": "markdown",
      "metadata": {
        "id": "43jCpTXKW5l7"
      },
      "source": [
        "1\\. Generate a list of 10 values of each for the parameters min_samples_split and min_samples_leaf. \n",
        "\n",
        "(1 Point)"
      ]
    },
    {
      "cell_type": "code",
      "execution_count": 62,
      "metadata": {
        "id": "tSOC_cwoW5l8"
      },
      "outputs": [],
      "source": [
        "# Place your code here\n",
        "split_samples = [10,150,310,625,1250,2500,5000,10000,20000,39859]\n",
        "leaf_samples =  [2,4,8,16,32,64,128,256,512,1024]"
      ]
    },
    {
      "cell_type": "markdown",
      "metadata": {
        "id": "J5-iUr7gW5l8"
      },
      "source": [
        "2\\. Explain in words your reasoning for choosing the above ranges.\n",
        "\n",
        "(1 Points)"
      ]
    },
    {
      "cell_type": "markdown",
      "metadata": {
        "id": "Fs6wgdg9M8t_"
      },
      "source": [
        "*Place your response here*\n",
        "\n",
        "By taking the split_samples in this range, we can keep decreasing from a total of 39859 down to 10, by reducing by a factor of 2, gives us an equal distribution of the split_samples\n",
        "\n",
        "Similarly we can increase the leaf samples by a factor of 2 and keep increasing till it covers a fair range.\n"
      ]
    },
    {
      "cell_type": "markdown",
      "metadata": {
        "id": "eN8_nlYPW5l8"
      },
      "source": [
        "3\\. For each combination of values in 3.1 (there should be 100), build a new classifier and check the classifier's accuracy on the test data. Plot the test set accuracy for these options. Use the values of `min_samples_split` as the x-axis and generate a new series (line) for each of `min_samples_leaf`.\n",
        "\n",
        "(5 Points)"
      ]
    },
    {
      "cell_type": "code",
      "execution_count": 63,
      "metadata": {
        "colab": {
          "base_uri": "https://localhost:8080/",
          "height": 639
        },
        "id": "e5HkS_nyW5l9",
        "outputId": "50fe1f0f-8b07-4d50-f02e-1881b249c290"
      },
      "outputs": [
        {
          "output_type": "stream",
          "name": "stdout",
          "text": [
            "Max Accuracy: 0.5975900589933476  when min_samples_leaf  128  and min_samples_split 625\n"
          ]
        },
        {
          "output_type": "display_data",
          "data": {
            "text/plain": [
              "<Figure size 720x720 with 1 Axes>"
            ],
            "image/png": "[encoded data removed]"
          },
          "metadata": {
            "needs_background": "light"
          }
        }
      ],
      "source": [
        "# Place your code here\n",
        "plt.figure(figsize=(10,10))\n",
        "max = 0\n",
        "leaf_pos_maximum = 0\n",
        "sample_split_max = 0\n",
        "\n",
        "for i in split_samples:\n",
        "  acc = []\n",
        "\n",
        "  for j in leaf_samples:\n",
        "    \n",
        "    classifier = DecisionTreeClassifier(criterion = 'entropy', min_samples_split = i, min_samples_leaf= j)\n",
        "    classifier.fit(training_df[X_features], training_df[Y_target])\n",
        "    y_pred = classifier.predict(testing_df[X_features])\n",
        "    acc.append(metrics.accuracy_score(testing_df[Y_target], y_pred))\n",
        "    \n",
        "    if  metrics.accuracy_score(testing_df[Y_target], y_pred)> max:\n",
        "      max = metrics.accuracy_score(testing_df[Y_target], y_pred)\n",
        "      leaf_pos_maximum = j\n",
        "      sample_split_maximum = i\n",
        "  \n",
        "  \n",
        "  plt.plot(leaf_samples, acc, label= i)\n",
        "  plt.legend(bbox_to_anchor=(1.25, 1), loc='upper right') \n",
        "  plt.title('Min_samples_leaf vs Accuracy')\n",
        "  plt.xlabel('Min_samples_leaf')\n",
        "  plt.ylabel('Accuracy') \n",
        "print('Max Accuracy:',max,' when min_samples_leaf ',leaf_pos_maximum,' and min_samples_split',sample_split_maximum)"
      ]
    },
    {
      "cell_type": "markdown",
      "metadata": {
        "id": "HWgFUXK-W5l9"
      },
      "source": [
        "4\\. Which configuration returns the best accuracy? What is this accuracy? (Note, if you don't see much variation in the test set accuracy across values of min_samples_split or min_samples_leaf, try redoing the above steps with a different range of values).\n",
        "\n",
        "(1 Point)"
      ]
    },
    {
      "cell_type": "markdown",
      "metadata": {
        "id": "goSHZNjGMg5u"
      },
      "source": [
        "The most accurate configuration for the specified ranges is achieved when min_samples_split = 2500 and min_samples_leaf = 256. The accuracy is 0.59 (This accuracy might vary since, the split data is changed everytime we run the program)"
      ]
    },
    {
      "cell_type": "markdown",
      "metadata": {
        "id": "6K6oetWeW5l-"
      },
      "source": [
        "5\\. If you were working for a marketing department, how would you use your churn production model in a real business environment? Explain why churn prediction might be good for the business and how one might improve churn by using this model.\n",
        "\n",
        "(2 Points)"
      ]
    },
    {
      "cell_type": "markdown",
      "metadata": {
        "id": "uWJkY7N2MmTk"
      },
      "source": [
        "*Place your response here*\n",
        "\n",
        "Churn Prediction model can be implemented in business to understand the likeliness of being churned. This can be then implemented to understand how we can retain them and decrease churn\n",
        "\n",
        "This prediction model also helps to understand how various features impact on churn and combat them."
      ]
    },
    {
      "cell_type": "markdown",
      "metadata": {
        "collapsed": true,
        "id": "Lkz5xJiWW5l-"
      },
      "source": [
        "### **Part 3: Model selection with cross-validation (5 points)**\n"
      ]
    },
    {
      "cell_type": "markdown",
      "metadata": {
        "id": "BAu5rwsQOQir"
      },
      "source": [
        "In this part, we will focus on cross-validation to find a good value for parameter `max_depth`.\n"
      ]
    },
    {
      "cell_type": "markdown",
      "metadata": {
        "id": "RORjY0z4W5l-"
      },
      "source": [
        "1\\. Write a cross-validation function that does the following:\n",
        "- Takes as inputs a dataset, a label name, # of splits/folds (`k`), and a sequence of values for the maximum depth of the tree (`max_depth`). \n",
        "- Shuffles the data.\n",
        "- Splits the data into `k` folds according to the cross-validation logic\n",
        "- Performs two loops\n",
        "  - Outer Loop: `for each f in range(k)`:\n",
        "    - Inner Loop: `for each value in max_depth_sequence`:\n",
        "      - Trains a Decision Tree on the training split with the `max_depth=value` (USE criterion='entropy' BUT DO NOT ALTER THE OTHER PARAMETERS)\n",
        "      - Computes accuracy_value_f on test split\n",
        "      - Stores accuracy_value_f in a  dictionary of values\n",
        "- Returns a dictionary, where each key-value pair is: `value:[accuracy_value_1,...,accuracy_value_k]`\n",
        "\n",
        "(2 Points)"
      ]
    },
    {
      "cell_type": "code",
      "execution_count": 64,
      "metadata": {
        "id": "01j_b6Xb_XO1"
      },
      "outputs": [],
      "source": [
        "from random import seed\n",
        "from random import randrange\n",
        " \n",
        "def cross_val_split(dataset, folds):\n",
        "\tdataset_splitAns = list()\n",
        "\tdataset_copy = list(dataset)\n",
        "\tfold_size = int(len(dataset) // folds)\n",
        "\tfor i in range(folds):\n",
        "\t\tfold = list()\n",
        "\t\twhile len(fold) < fold_size:\n",
        "\t\t\tindex = randrange(len(dataset_copy))\n",
        "\t\t\tfold.append(dataset_copy.pop(index))\n",
        "\t\tdataset_splitAns.append(fold)\n",
        "\treturn dataset_splitAns"
      ]
    },
    {
      "cell_type": "code",
      "execution_count": 65,
      "metadata": {
        "id": "J5lLsUqJ2nGn"
      },
      "outputs": [],
      "source": [
        "def valDecTree(dataset, label_name, k, max_depth_sequence):\n",
        "  strr = ['revenue','outcalls','incalls','months','eqpdays','webcap','marryyes','travel','pcown','creditcd','retcalls',  'churndep']\n",
        "  dataset2 = dataset.to_numpy()\n",
        "  \n",
        "  acc_value = {}\n",
        "  for i in max_depth_sequence:\n",
        "    acc_value[i]=[]\n",
        "  \n",
        "  kfold = cross_val_split(dataset2, k)\n",
        "\n",
        "  for i in range(k):\n",
        "    kfoldCopy = kfold.copy()\n",
        "    \n",
        "    datasetFoldTest = pd.DataFrame(kfoldCopy[i], columns = strr)\n",
        "    kfoldCopy.pop(i)\n",
        "    datasetFoldTrain =kfoldCopy\n",
        "    \n",
        "    flat_list = [item for sublist in kfoldCopy for item in sublist]\n",
        "    \n",
        "    datasetFoldTrain = pd.DataFrame(flat_list, columns = strr)\n",
        "\n",
        "    for value in max_depth_sequence:\n",
        "      classifier_kFold = DecisionTreeClassifier(criterion = 'entropy', max_depth=value)\n",
        "      classifier_kFold.fit(datasetFoldTrain[X_features], datasetFoldTrain[label_name])\n",
        "      \n",
        "      y_pred = classifier_kFold.predict(datasetFoldTest[X_features])\n",
        "      acc_value[value].append(metrics.accuracy_score(datasetFoldTest[label_name], y_pred))\n",
        "\n",
        "  return acc_value\n",
        "    \n",
        "  \n"
      ]
    },
    {
      "cell_type": "markdown",
      "metadata": {
        "id": "_mVjLoczW5l_"
      },
      "source": [
        "2\\. Using the function written above, do the following:\n",
        "- Generate a sequence `max_depth_sequence = [None, 2, 4, 8, 16, 32, 128, 256, 512]` (Note that None is the default value for this parameter).\n",
        "2.\tCall accs = xValDecisionTree(dataset, 'churndep', 10, `max_depth_sequence`)\n",
        "3.  For each value in accs.keys(), calculate mean(accs[value]). What value is associated with the highest accuracy mean?\n",
        "4.  For each value in accs.keys(), calculate the ranges mean(accs[value]) +/- std(accs[value]). Do the ranges associated with the value that has the highest mean(accs[value]) overlap with ranges for other values? What may this suggest and what are the limitations of a standard deviation based analysis in this scenario?\n",
        "\n",
        "5.  Which depth value would you pick, if any, and why?\n",
        "\n",
        "(3 Points)"
      ]
    },
    {
      "cell_type": "code",
      "execution_count": 66,
      "metadata": {
        "colab": {
          "base_uri": "https://localhost:8080/",
          "height": 0
        },
        "id": "vhxqce5FMFRF",
        "outputId": "0481ca74-9871-474d-e53c-240483bb77ae"
      },
      "outputs": [
        {
          "output_type": "stream",
          "name": "stdout",
          "text": [
            "{None: [0.5295003766005524, 0.5397941250313834, 0.5274918403213658, 0.5473261360783329, 0.5279939743911625, 0.5207130303791112, 0.5370323876475018, 0.5272407732864675, 0.5352749184032136, 0.5222194325885011], 2: [0.584484057243284, 0.5857393924177755, 0.5809691187547075, 0.5744413758473512, 0.5940246045694201, 0.600301280441878, 0.584484057243284, 0.5659050966608085, 0.5822244539291991, 0.5689179010795883], 4: [0.5942756716043184, 0.594777805674115, 0.5902585990459452, 0.5854883253828772, 0.6038162189304545, 0.6078332914888275, 0.5980416771277931, 0.5905096660808435, 0.5987948782324881, 0.5859904594526739], 8: [0.6005523474767763, 0.5917650012553352, 0.5910118001506403, 0.5849861913130806, 0.5970374089881999, 0.604318353000251, 0.5930203364298268, 0.5890032638714536, 0.6010544815465729, 0.5854883253828772], 16: [0.5649008285212151, 0.5714285714285714, 0.5669093648004017, 0.5784584484057244, 0.5618880241024353, 0.5807180517198092, 0.5646497614863168, 0.5548581471252825, 0.584484057243284, 0.546572934973638], 32: [0.5362791865428069, 0.5375345217172985, 0.5402962591011801, 0.5468240020085363, 0.534772784333417, 0.523725834797891, 0.5450665327642481, 0.5279939743911625, 0.5337685161938237, 0.5214662314838062], 128: [0.5310067788099423, 0.5400451920662817, 0.5264875721817726, 0.5423047953803666, 0.5239769018327893, 0.5199598292744163, 0.5377855887521968, 0.5357770524730103, 0.535525985438112, 0.523725834797891], 256: [0.5272407732864675, 0.5407983931709767, 0.5292493095656541, 0.5483304042179262, 0.5262365051468743, 0.5202108963093146, 0.5385387898568917, 0.5282450414260608, 0.5342706502636204, 0.5217172985187045], 512: [0.5209640974140095, 0.5382877228219934, 0.5307557117750439, 0.5413005272407733, 0.5239769018327893, 0.5184534270650264, 0.5397941250313834, 0.5362791865428069, 0.5310067788099423, 0.5182023600301281]}\n",
            "Max Depth: [None] mean:  0.5314586994727593   std: 0.008280392291440149  mean-std  0.5231783071813191  mean+std  0.5397390917641994\n",
            "Max Depth: [2] mean:  0.5821491338187296   std: 0.010509587309715658  mean-std  0.5716395465090139  mean+std  0.5926587211284452\n",
            "Max Depth: [4] mean:  0.5949786593020336   std: 0.007310032767170712  mean-std  0.587668626534863  mean+std  0.6022886920692043\n",
            "Max Depth: [8] mean:  0.5938237509415014   std: 0.006680249614848021  mean-std  0.5871435013266534  mean+std  0.6005040005563494\n",
            "Max Depth: [16] mean:  0.5674868189806679   std: 0.011752899355510119  mean-std  0.5557339196251577  mean+std  0.579239718336178\n",
            "Max Depth: [32] mean:  0.534772784333417   std: 0.008417300835671717  mean-std  0.5263554834977453  mean+std  0.5431900851690887\n",
            "Max Depth: [128] mean:  0.5316595531006779   std: 0.007739491743881172  mean-std  0.5239200613567967  mean+std  0.5393990448445591\n",
            "Max Depth: [256] mean:  0.531483806176249   std: 0.0088918934882723  mean-std  0.5225919126879767  mean+std  0.5403756996645214\n",
            "Max Depth: [512] mean:  0.5299020838563897   std: 0.008966995439371794  mean-std  0.5209350884170179  mean+std  0.5388690792957616\n"
          ]
        }
      ],
      "source": [
        "# Place your code here\n",
        "max_depth_sequence = [None, 2, 4, 8, 16, 32, 128, 256, 512]\n",
        "accuracy = valDecTree(df, 'churndep', 10, max_depth_sequence)\n",
        "print(accuracy)\n",
        "\n",
        "\n",
        "for i in max_depth_sequence:\n",
        "  print(\"Max Depth:\",[i],\n",
        "        \"mean: \",statistics.mean(accuracy[i]),\n",
        "        \"  std:\",statistics.stdev(accuracy[i]),\n",
        "        \" mean-std \",statistics.mean(accuracy[i]) - statistics.stdev(accuracy[i]) ,\n",
        "        \" mean+std \",statistics.mean(accuracy[i]) + statistics.stdev(accuracy[i]))"
      ]
    },
    {
      "cell_type": "markdown",
      "source": [
        "The highest accuracy mean is with max_depth_value=4\n",
        "\n",
        "The ranges associated with 4 overlap with that of max_depth_value = 8. This suggests that classifier with depth of 4 and 8 have a similar accuracies and vary by just a small amount. The limitation of standard deviation is that it does not indicate the scatter of data and increases ambuiguity. In this scenario, the standard deviation is as it very low for all the depths hence not useful.\n",
        "\n",
        "I would pick a depth of 4 since it has the highest mean and also a low standard deviation."
      ],
      "metadata": {
        "id": "OBuCJGJAAdKS"
      }
    },
    {
      "cell_type": "markdown",
      "metadata": {
        "id": "78CJdaQzO1sC"
      },
      "source": [
        "### **Part 4: Boosting (5 Points)**\n"
      ]
    },
    {
      "cell_type": "markdown",
      "metadata": {
        "id": "GUHIOAxaPHOn"
      },
      "source": [
        "Now, as we covered in class, ensemble methods are often used to improve performance. \n",
        "\n",
        "1. Implement the boosting algorithm: XGBoost for the same `cell2cell_data.csv` task as above. You will have to select how to tune hyperparameters. Besides depth, which other hyperparametrs do you optimize for? (2 points)"
      ]
    },
    {
      "cell_type": "markdown",
      "metadata": {
        "id": "GPvZZHlvPfh_"
      },
      "source": [
        "*Place your answer here regarding hyperparameters.*"
      ]
    },
    {
      "cell_type": "code",
      "execution_count": 67,
      "metadata": {
        "id": "HLsVwARuPedB",
        "colab": {
          "base_uri": "https://localhost:8080/",
          "height": 0
        },
        "outputId": "f2f0fb80-da3d-4060-e3fc-888bc4653fbc"
      },
      "outputs": [
        {
          "output_type": "stream",
          "name": "stdout",
          "text": [
            "XGBClassifier(max_depth=4)\n"
          ]
        },
        {
          "output_type": "stream",
          "name": "stderr",
          "text": [
            "/usr/local/lib/python3.7/dist-packages/sklearn/preprocessing/_label.py:98: DataConversionWarning: A column-vector y was passed when a 1d array was expected. Please change the shape of y to (n_samples, ), for example using ravel().\n",
            "  y = column_or_1d(y, warn=True)\n",
            "/usr/local/lib/python3.7/dist-packages/sklearn/preprocessing/_label.py:98: DataConversionWarning: A column-vector y was passed when a 1d array was expected. Please change the shape of y to (n_samples, ), for example using ravel().\n",
            "  y = column_or_1d(y, warn=True)\n",
            "/usr/local/lib/python3.7/dist-packages/sklearn/preprocessing/_label.py:98: DataConversionWarning: A column-vector y was passed when a 1d array was expected. Please change the shape of y to (n_samples, ), for example using ravel().\n",
            "  y = column_or_1d(y, warn=True)\n",
            "/usr/local/lib/python3.7/dist-packages/sklearn/preprocessing/_label.py:98: DataConversionWarning: A column-vector y was passed when a 1d array was expected. Please change the shape of y to (n_samples, ), for example using ravel().\n",
            "  y = column_or_1d(y, warn=True)\n",
            "/usr/local/lib/python3.7/dist-packages/sklearn/preprocessing/_label.py:98: DataConversionWarning: A column-vector y was passed when a 1d array was expected. Please change the shape of y to (n_samples, ), for example using ravel().\n",
            "  y = column_or_1d(y, warn=True)\n",
            "/usr/local/lib/python3.7/dist-packages/sklearn/preprocessing/_label.py:98: DataConversionWarning: A column-vector y was passed when a 1d array was expected. Please change the shape of y to (n_samples, ), for example using ravel().\n",
            "  y = column_or_1d(y, warn=True)\n",
            "/usr/local/lib/python3.7/dist-packages/sklearn/preprocessing/_label.py:98: DataConversionWarning: A column-vector y was passed when a 1d array was expected. Please change the shape of y to (n_samples, ), for example using ravel().\n",
            "  y = column_or_1d(y, warn=True)\n",
            "/usr/local/lib/python3.7/dist-packages/sklearn/preprocessing/_label.py:98: DataConversionWarning: A column-vector y was passed when a 1d array was expected. Please change the shape of y to (n_samples, ), for example using ravel().\n",
            "  y = column_or_1d(y, warn=True)\n",
            "/usr/local/lib/python3.7/dist-packages/sklearn/preprocessing/_label.py:98: DataConversionWarning: A column-vector y was passed when a 1d array was expected. Please change the shape of y to (n_samples, ), for example using ravel().\n",
            "  y = column_or_1d(y, warn=True)\n",
            "/usr/local/lib/python3.7/dist-packages/sklearn/preprocessing/_label.py:98: DataConversionWarning: A column-vector y was passed when a 1d array was expected. Please change the shape of y to (n_samples, ), for example using ravel().\n",
            "  y = column_or_1d(y, warn=True)\n",
            "/usr/local/lib/python3.7/dist-packages/sklearn/preprocessing/_label.py:98: DataConversionWarning: A column-vector y was passed when a 1d array was expected. Please change the shape of y to (n_samples, ), for example using ravel().\n",
            "  y = column_or_1d(y, warn=True)\n"
          ]
        },
        {
          "output_type": "stream",
          "name": "stdout",
          "text": [
            "Mean cross-val:  0.5975019751261156\n",
            "[[1915 2083]\n",
            " [1108 2861]]\n"
          ]
        }
      ],
      "source": [
        "import xgboost as xgb\n",
        "from sklearn.model_selection import cross_val_score, KFold\n",
        "from sklearn.metrics import confusion_matrix\n",
        "# Place your code here\n",
        "\n",
        "xgbc = xgb.XGBClassifier( gamma=0,max_depth=4,reg_lambda=1)\n",
        "print(xgbc)\n",
        "\n",
        "xgbc.fit(training_df[X_features], training_df[Y_target])\n",
        "\n",
        "# - cross validataion\n",
        "scores = cross_val_score(xgbc, training_df[X_features], training_df[Y_target], cv=10)\n",
        "print(\"Mean cross-val: \" , scores.mean())\n",
        "\n",
        "ypred = xgbc.predict(testing_df[X_features])\n",
        "cm = confusion_matrix(testing_df[Y_target],ypred)\n",
        "print(cm)\n",
        "\n"
      ]
    },
    {
      "cell_type": "markdown",
      "source": [],
      "metadata": {
        "id": "B_y4h5Yw8c4C"
      }
    },
    {
      "cell_type": "markdown",
      "metadata": {
        "id": "HVKhgl4eBsmC"
      },
      "source": [
        "2. Now compare the XGBoost performance to the decision tree implementation from part 3. Describe in text how they compare, and if this aligns with what you expect. (3 points)"
      ]
    },
    {
      "cell_type": "code",
      "execution_count": 68,
      "metadata": {
        "id": "Euk6L8QHPfAQ",
        "colab": {
          "base_uri": "https://localhost:8080/",
          "height": 372
        },
        "outputId": "7c069169-0e19-4a76-aca0-9bf066bcf76c"
      },
      "outputs": [
        {
          "output_type": "stream",
          "name": "stdout",
          "text": [
            "0.5975019751261156 0.5975900589933476\n"
          ]
        },
        {
          "output_type": "execute_result",
          "data": {
            "text/plain": [
              "<BarContainer object of 2 artists>"
            ]
          },
          "metadata": {},
          "execution_count": 68
        },
        {
          "output_type": "display_data",
          "data": {
            "text/plain": [
              "<Figure size 432x288 with 1 Axes>"
            ],
            "image/png": "[encoded data removed]"
          },
          "metadata": {
            "needs_background": "light"
          }
        }
      ],
      "source": [
        "decision_treeAcc = max\n",
        "XGBoostAcc = scores.mean()\n",
        "\n",
        "acc = [decision_treeAcc, XGBoostAcc]\n",
        "lab = [\"decision_treeAcc\", \"XGBoostAcc\"]\n",
        "print(XGBoostAcc,decision_treeAcc)\n",
        "\n",
        "fig = plt.figure()\n",
        "ax = fig.add_axes([0,0,1,1])\n",
        "ax.bar(lab, acc)"
      ]
    },
    {
      "cell_type": "markdown",
      "metadata": {
        "id": "WZ52FXv8kHnR"
      },
      "source": [
        "*Place your response text here regarding the comparison.*\n",
        "\n",
        "XGBoost has a higher accuracy than decision tree classifier.\n",
        "\n",
        "We can set the max depth as 4 as it will limit the tree's total depth\n",
        "we can also set regularisation lambda to only have relevant features contribute to score."
      ]
    },
    {
      "cell_type": "markdown",
      "metadata": {
        "id": "AcxGQ2L0k8P1"
      },
      "source": [
        "## End of homework"
      ]
    }
  ],
  "metadata": {
    "colab": {
      "provenance": []
    },
    "kernelspec": {
      "display_name": "Python 3",
      "language": "python",
      "name": "python3"
    },
    "language_info": {
      "codemirror_mode": {
        "name": "ipython",
        "version": 3
      },
      "file_extension": ".py",
      "mimetype": "text/x-python",
      "name": "python",
      "nbconvert_exporter": "python",
      "pygments_lexer": "ipython3",
      "version": "3.7.6"
    }
  },
  "nbformat": 4,
  "nbformat_minor": 0
}