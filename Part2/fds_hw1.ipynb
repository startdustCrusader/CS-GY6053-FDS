{
  "nbformat": 4,
  "nbformat_minor": 0,
  "metadata": {
    "colab": {
      "provenance": [],
      "collapsed_sections": []
    },
    "kernelspec": {
      "name": "python3",
      "display_name": "Python 3"
    },
    "language_info": {
      "name": "python"
    },
    "accelerator": "GPU"
  },
  "cells": [
    {
      "cell_type": "markdown",
      "source": [
        "# **Foundations of Data Science Fall 2022 - Homework 1 (32 points)**\n",
        "\n",
        "### Student Name: Pranjal Jain\n",
        "### Student Net Id: pj2069\n",
        "\n",
        "---\n",
        "\n"
      ],
      "metadata": {
        "id": "UVi0YPMvUjwg"
      }
    },
    {
      "cell_type": "markdown",
      "source": [
        "### **Part 0: Data Exploration and Linear Regression (5 Points)**\n",
        "\n",
        "---\n"
      ],
      "metadata": {
        "id": "ie52W18UUlMB"
      }
    },
    {
      "cell_type": "code",
      "source": [
        "# Importing all important packages\n",
        "\n",
        "import numpy as np\n",
        "import pandas as pd\n",
        "import matplotlib.pyplot as plt\n",
        "\n",
        "from sklearn.linear_model import Lasso, Ridge, RidgeCV, LassoCV\n",
        "from sklearn.metrics import r2_score\n",
        "from sklearn.model_selection import train_test_split"
      ],
      "metadata": {
        "id": "gC9WIPo7U3JD"
      },
      "execution_count": null,
      "outputs": []
    },
    {
      "cell_type": "code",
      "source": [
        "# Downloading data\n",
        "\n",
        "fn_src ='https://drive.google.com/uc?export=download&id=1RzQpKONOcXSMxH2ZzOI4iVMiTgD6ttSl'\n",
        "fn_dst ='eeg_dat.p'\n",
        "\n",
        "import os\n",
        "from six.moves import urllib\n",
        "\n",
        "if os.path.isfile(fn_dst):\n",
        "    print('File %s is already downloaded' % fn_dst)\n",
        "else:        \n",
        "    print('Fetching file %s [53MB].  This may take a minute..' % fn_dst)\n",
        "    urllib.request.urlretrieve(fn_src, fn_dst)\n",
        "    print('File %s downloaded' % fn_dst)"
      ],
      "metadata": {
        "colab": {
          "base_uri": "https://localhost:8080/"
        },
        "id": "PkPvRr0a-Sr8",
        "outputId": "768e5036-406e-49d9-e5fa-dbecf0a58d24"
      },
      "execution_count": null,
      "outputs": [
        {
          "output_type": "stream",
          "name": "stdout",
          "text": [
            "File eeg_dat.p is already downloaded\n"
          ]
        }
      ]
    },
    {
      "cell_type": "code",
      "source": [
        "# Loading data\n",
        "\n",
        "import pickle\n",
        "fn = 'eeg_dat.p'\n",
        "with open(fn, 'rb') as fp:\n",
        "    [X,Y] = pickle.load(fp)"
      ],
      "metadata": {
        "id": "zu_NFpHx-ZPh"
      },
      "execution_count": null,
      "outputs": []
    },
    {
      "cell_type": "markdown",
      "source": [
        ">>**1**\\. **(1 Point)** *Display the first 5 rows of X and Y and print the dimensions for both datasets*\n",
        "\n"
      ],
      "metadata": {
        "id": "CtBimafqe5GH"
      }
    },
    {
      "cell_type": "code",
      "source": [
        "# Write your code here\n",
        "# print(X[0:5])\n",
        "# print(Y[0:5])\n",
        "\n",
        "Y1 = Y\n",
        "X = pd.DataFrame(X)\n",
        "Y = pd.DataFrame(Y)\n",
        "\n",
        "print(X.head(5))\n",
        "print(Y.head(5))\n",
        "\n",
        "print(\"Shape of X is :\", X.shape)\n",
        "print(\"Shape of Y is :\", Y.shape)"
      ],
      "metadata": {
        "id": "umxMgyXsU7Tw",
        "colab": {
          "base_uri": "https://localhost:8080/"
        },
        "outputId": "334087bb-6ec7-47e4-8199-e1f19c24a01b"
      },
      "execution_count": null,
      "outputs": [
        {
          "output_type": "stream",
          "name": "stdout",
          "text": [
            "      0         1         2         3         4         5         6      \\\n",
            "0  0.000000  0.000000  0.000000  0.000000  0.000000  0.000000  0.000000   \n",
            "1  0.000000  0.000000  0.000000  0.000000  0.000000  0.000000  0.000000   \n",
            "2  0.000000  0.000000  0.000000  0.000000  0.000000  0.000000  0.000000   \n",
            "3 -0.005298  0.004913  0.005980 -0.017285  0.003744  0.002225  0.008631   \n",
            "4 -0.015230  0.000591 -0.001915  0.005686 -0.003713 -0.003756 -0.029076   \n",
            "\n",
            "      7         8         9      ...     22484     22485     22486     22487  \\\n",
            "0  0.000000  0.000000  0.000000  ...  0.000000  0.000000  0.000000  0.000000   \n",
            "1  0.000000  0.000000  0.000000  ...  0.000000  0.000000  0.000000  0.000000   \n",
            "2  0.000000  0.000000  0.000000  ...  0.000000  0.000000  0.000000  0.000000   \n",
            "3 -0.000307  0.001637 -0.011145  ... -0.000478  0.001342  0.001086 -0.006260   \n",
            "4  0.004742 -0.001302  0.003479  ... -0.001062  0.001559 -0.003527  0.002363   \n",
            "\n",
            "      22488     22489     22490     22491     22492     22493  \n",
            "0  0.000000  0.000000  0.000000  0.000000  0.000000  0.000000  \n",
            "1  0.000000  0.000000  0.000000  0.000000  0.000000  0.000000  \n",
            "2  0.000000  0.000000  0.000000  0.000000  0.000000  0.000000  \n",
            "3 -0.000804  0.000173 -0.000434  0.001625 -0.002321  0.001160  \n",
            "4 -0.000092  0.002601 -0.000264  0.003317 -0.002149  0.001601  \n",
            "\n",
            "[5 rows x 22494 columns]\n",
            "         0         1         2         3         4         5         6   \\\n",
            "0  0.000000  0.000000  0.000000  0.000000  0.000000  0.000000  0.000000   \n",
            "1  0.000000  0.000000  0.000000  0.000000  0.000000  0.000000  0.000000   \n",
            "2  0.000000  0.000000  0.000000  0.000000  0.000000  0.000000  0.000000   \n",
            "3 -0.092762 -0.089851 -0.076083 -0.055309 -0.032313 -0.012111  0.000809   \n",
            "4  0.012418 -0.005698 -0.028014 -0.053595 -0.081048 -0.108520 -0.133793   \n",
            "\n",
            "         7         8         9   ...        75        76        77        78  \\\n",
            "0  0.000000  0.000000  0.000000  ...  0.000000  0.000000  0.000000  0.000000   \n",
            "1  0.000000  0.000000  0.000000  ...  0.000000  0.000000  0.000000  0.000000   \n",
            "2  0.000000  0.000000  0.000000  ...  0.000000  0.000000  0.000000  0.000000   \n",
            "3  0.003137 -0.006782 -0.028696  ...  0.274814  0.225944  0.170029  0.112699   \n",
            "4 -0.154483 -0.168267 -0.173200  ...  0.234969  0.240471  0.228565  0.201114   \n",
            "\n",
            "         79        80        81        82        83        84  \n",
            "0  0.000000  0.000000  0.000000  0.000000  0.000000  0.000000  \n",
            "1  0.000000  0.000000  0.000000  0.000000  0.000000  0.000000  \n",
            "2  0.000000  0.000000  0.000000  0.000000  0.000000  0.000000  \n",
            "3  0.059475  0.015141 -0.016816 -0.034564 -0.038091 -0.029101  \n",
            "4  0.161228  0.112934  0.060740  0.009157 -0.037715 -0.076560  \n",
            "\n",
            "[5 rows x 85 columns]\n",
            "Shape of X is : (305, 22494)\n",
            "Shape of Y is : (305, 85)\n"
          ]
        }
      ]
    },
    {
      "cell_type": "markdown",
      "source": [
        "Background: This is an ECG dataset that contains voltage measurements from a number of points on the scalp. A common task is to estimate which parts of the brain caused the measured response, which can help identify which parts of the brain are involved in specific tasks. However, the number of possible locations in the brain is much larger than the number of measurements, which makes this an appropriate task to assess the use of regularization to determine the brain region that is active under stimulus.\n",
        "\n",
        "In particular, there are three key variables:\n",
        "* `nt`    = number of time steps that we measure data\n",
        "* `nchan` = number of channels (i.e. electrodes) measured in each time step\n",
        "* `ncur`  = number of currents in the brain that we want to estimate.  \n",
        "\n",
        "Each current comes from one brain region (called a *voxel*) in either the `x`, `y` or `z` direction.  So,\n",
        "\n",
        "    nvoxels = ncur / 3\n",
        "    \n",
        "The components of the `X` and `Y` matrices are:\n",
        "*  `Y[i,k]` = electric field measurement on channel `i` at time `k`\n",
        "*  `X[i,j]` = sensitivity of channel `i` to current `j`.\n",
        "\n"
      ],
      "metadata": {
        "id": "hiJpfr8MgBb1"
      }
    },
    {
      "cell_type": "markdown",
      "source": [
        ">>**2**\\. **(1 Point)** Split the data into training and testing. What split do you use, and why?"
      ],
      "metadata": {
        "id": "yDZtFIjTfxmW"
      }
    },
    {
      "cell_type": "markdown",
      "source": [
        ">>[Place your answer here regarding the split]\n",
        "\n",
        "Answer: The split I use is 66:33 since we have low training data, the model will be of high variance and we require more test data."
      ],
      "metadata": {
        "id": "WJF7n_tBy4Uv"
      }
    },
    {
      "cell_type": "code",
      "source": [
        "# Write your code here\n",
        "X_tr, X_ts, y_tr, y_ts = train_test_split(X,Y,test_size=0.33,shuffle=True)"
      ],
      "metadata": {
        "id": "JOo5tg-7gD_z"
      },
      "execution_count": null,
      "outputs": []
    },
    {
      "cell_type": "markdown",
      "source": [
        ">>**3**\\. **(3 Points)** Perform linear regression. As a reminder, the optimization for linear regression using ordinary least squares is written below, the data consists of $n$ observations {$x_i$,$y_i$}. Each observation $i$ includes a scalar response $y_i$ and a column vector $x_i$ of $p$ variables (regressors).\n",
        "\n",
        ">>The evaluation metric used for linear regression is the $R^2$ score. Explain what $R^2$ tells us, and interpret your results based on this.*\n",
        "\n"
      ],
      "metadata": {
        "id": "CKEkzFqKzPFJ"
      }
    },
    {
      "cell_type": "markdown",
      "source": [
        "\\begin{align}\n",
        "\\text{Ordinary Least Squares}\n",
        "\\end{align}\n",
        " \n",
        " \n",
        "\n",
        " \\begin{align}\n",
        "        \\underset{\\beta}{\\operatorname{arg min}}\n",
        "        \\left[\\sum_{i=1}^n \\left( y_i - β_o - \\sum_{j=1}^p β_jx_{ij}  \\right)^2  \\right]\n",
        "    \\end{align}\n",
        "\n"
      ],
      "metadata": {
        "id": "LvFX8XmAQVev"
      }
    },
    {
      "cell_type": "code",
      "source": [
        "# Write your code here\n",
        "from sklearn.linear_model import LinearRegression\n",
        "\n",
        "regrL = LinearRegression()\n",
        "regrL.fit(X_tr, y_tr)\n",
        "\n",
        "y_pred_test = regrL.predict(X_ts)\n",
        "rsq_ts= r2_score(y_ts, y_pred_test)\n",
        "\n",
        "y_pred_train = regrL.predict(X_tr)\n",
        "rsq_tr= r2_score(y_tr, y_pred_train)\n",
        "\n",
        "print(rsq_ts)\n",
        "print(rsq_tr)\n"
      ],
      "metadata": {
        "id": "FrUITWlpzOfs",
        "colab": {
          "base_uri": "https://localhost:8080/"
        },
        "outputId": "610616f4-ed62-46d5-8498-20174e1d69b2"
      },
      "execution_count": null,
      "outputs": [
        {
          "output_type": "stream",
          "name": "stdout",
          "text": [
            "-4.813915326588146\n",
            "1.0\n"
          ]
        }
      ]
    },
    {
      "cell_type": "markdown",
      "source": [
        ">>Place your written answer here.\n",
        "\n",
        "The data has shown to have good fit for training data but a terrible fit for the test data. This is caused by overfiting and having high bias learned by having more features than the training examples. For a more accurate model, we need to understand which features are relevant and which are having no use case in our model."
      ],
      "metadata": {
        "id": "vMtUeI0FzS8B"
      }
    },
    {
      "cell_type": "markdown",
      "source": [
        "### **Part 1: Ridge Regularization (10 Points)**\n",
        "\n",
        "---\n"
      ],
      "metadata": {
        "id": "Nk4QVvQPUlJl"
      }
    },
    {
      "cell_type": "markdown",
      "source": [
        ">>**1**\\. **(1 Point)** *Now we will use ridge regression, a method that is used to analyse data that suffers from multicollinearity. Notice the regularization term added to the optimization below, which uses the squared value of $β$. It is also known as L2 regularization. First, what is the degree of collinearity in the data? Show your work and give rationale for the degree of collinearity.*\n"
      ],
      "metadata": {
        "id": "GNXMw5bCndxQ"
      }
    },
    {
      "cell_type": "markdown",
      "source": [
        "\\begin{align}\n",
        "\\text{Ridge Regression}\n",
        "\\end{align}\n",
        " \n",
        " \n",
        " \\begin{align}\n",
        "        \\underset{\\beta}{\\operatorname{arg min}}\n",
        "        \\left[\\sum_{i=1}^n \\left( y_i - βo - \\sum_{j=1}^p β_jx_{ij}  \\right)^2 + λ\\sum_{j=1}^p|β_j|^2  \\right]\n",
        "    \\end{align}\n"
      ],
      "metadata": {
        "id": "DEjwWVrrRKGs"
      }
    },
    {
      "cell_type": "code",
      "source": [],
      "metadata": {
        "id": "j2C9lClOz1A1"
      },
      "execution_count": null,
      "outputs": []
    },
    {
      "cell_type": "markdown",
      "source": [
        ">>[Place your interpretation here]"
      ],
      "metadata": {
        "id": "UjsFtPFdz8Bm"
      }
    },
    {
      "cell_type": "markdown",
      "source": [
        ">>**1b**\\. **(2 Points)** *Now implement ridge regression using sklearn. Start with the default alpha value, and print the $R^2$ score*"
      ],
      "metadata": {
        "id": "uv3A1LH5zs-c"
      }
    },
    {
      "cell_type": "code",
      "source": [
        "# Write your code here\n",
        "\n",
        "regrR = Ridge()\n",
        "regrR.fit(X_tr,y_tr)\n",
        "\n",
        "y_pred_ts = regrR.predict(X_ts)\n",
        "y_pred_tr = regrR.predict(X_tr)\n",
        "\n",
        "rsq_tr = r2_score(y_tr, y_pred_tr)\n",
        "rsq_ts= r2_score(y_ts, y_pred_ts)\n",
        "\n",
        "print(\"R2 Train: \", rsq_tr)\n",
        "print(\"R2 Test: \", rsq_ts)"
      ],
      "metadata": {
        "id": "51vepf1Ci1Ou",
        "colab": {
          "base_uri": "https://localhost:8080/"
        },
        "outputId": "62dfade7-b412-4a3c-b267-9c257918b369"
      },
      "execution_count": null,
      "outputs": [
        {
          "output_type": "stream",
          "name": "stdout",
          "text": [
            "R2 Train:  0.6075285800296725\n",
            "R2 Test:  0.19137688023916294\n"
          ]
        }
      ]
    },
    {
      "cell_type": "markdown",
      "source": [
        ">>**2**\\. **(5 Points)** *Now we will look at what happens when varying the parameter. Try 10 different values for alpha and print the alpha value with corresponding $R^2$ score using Cross-Validation for training data. Describe how you pick the range of alpha values to examine.* \n",
        "\n"
      ],
      "metadata": {
        "id": "SM2On6G0oTvo"
      }
    },
    {
      "cell_type": "markdown",
      "source": [
        ">>[Place your reasoning for the alpha values here]\n",
        "\n",
        "Alpha vales were taken in this manner as we want to find a range where $R^2$ values are the highest. Since we are determining highest $R^2$ values, we can take a logspace between 0.01 to 100 and find corresponding values.\n",
        "\n"
      ],
      "metadata": {
        "id": "QW1IJFuE0jWr"
      }
    },
    {
      "cell_type": "code",
      "source": [
        "# Write your code here\n",
        "alphas = np.logspace(-2,2,10)\n",
        "rsq = list()\n",
        "for i in alphas:\n",
        "  regr = RidgeCV(alphas = [i], cv = 10)\n",
        "  regr.fit(X_tr, y_tr)\n",
        "  y_pred_ridge=regr.predict(X_ts)\n",
        "  rsq_i= r2_score(y_ts, y_pred_ridge)\n",
        "  rsq.append(rsq_i)\n",
        "  print(\"Alpha:\",i ,\"\\t RSQ: %.4f\"%rsq_i)"
      ],
      "metadata": {
        "id": "crILa9Jji124",
        "colab": {
          "base_uri": "https://localhost:8080/"
        },
        "outputId": "cd5704c3-8b8c-4465-eeed-3d51b68c0b58"
      },
      "execution_count": null,
      "outputs": [
        {
          "output_type": "stream",
          "name": "stdout",
          "text": [
            "Alpha: 0.01 \t RSQ: -0.1775\n",
            "Alpha: 0.027825594022071243 \t RSQ: 0.0330\n",
            "Alpha: 0.0774263682681127 \t RSQ: 0.1595\n",
            "Alpha: 0.21544346900318834 \t RSQ: 0.2169\n",
            "Alpha: 0.5994842503189409 \t RSQ: 0.2132\n",
            "Alpha: 1.6681005372000592 \t RSQ: 0.1607\n",
            "Alpha: 4.6415888336127775 \t RSQ: 0.0924\n",
            "Alpha: 12.915496650148826 \t RSQ: 0.0416\n",
            "Alpha: 35.93813663804626 \t RSQ: 0.0154\n",
            "Alpha: 100.0 \t RSQ: 0.0040\n"
          ]
        }
      ]
    },
    {
      "cell_type": "markdown",
      "source": [
        ">>**3**\\. **(2 Points)** What is the highest $R^2$ you can achieve?"
      ],
      "metadata": {
        "id": "LiNCKowIpao5"
      }
    },
    {
      "cell_type": "code",
      "source": [
        "# Write your code here\n",
        "rsq = np.array(rsq)\n",
        "plt.semilogx(alphas, rsq, '--o')\n",
        "plt.ylabel('R^2 VALUE')\n",
        "plt.xlabel('ALPHA')\n",
        "plt.grid()\n",
        "rsq_max=np.max(rsq)\n",
        "print('Optimal RSQ: %.5f' %rsq_max)\n",
        "print(rsq)"
      ],
      "metadata": {
        "id": "7LhADmsWkEde",
        "colab": {
          "base_uri": "https://localhost:8080/",
          "height": 335
        },
        "outputId": "070b2628-2620-48f3-9250-356e754948d2"
      },
      "execution_count": null,
      "outputs": [
        {
          "output_type": "stream",
          "name": "stdout",
          "text": [
            "Optimal RSQ: 0.21688\n",
            "[-0.17748381  0.03303656  0.15948711  0.21687927  0.213198    0.16069535\n",
            "  0.09241065  0.04164972  0.0153547   0.00399081]\n"
          ]
        },
        {
          "output_type": "display_data",
          "data": {
            "text/plain": [
              "<Figure size 432x288 with 1 Axes>"
            ],
            "image/png": "[encoded data removed]"
          },
          "metadata": {
            "needs_background": "light"
          }
        }
      ]
    },
    {
      "cell_type": "markdown",
      "source": [
        "### **Part 2: Lasso Regularization (12 Points)**\n",
        "\n",
        "---\n"
      ],
      "metadata": {
        "id": "IPgtwSADUlGf"
      }
    },
    {
      "cell_type": "markdown",
      "source": [
        ">>**1**\\. **(3 Points)** *Another method often used to improve performance is Lasso regularization. Lasso regression improves performance by using shrinkage, where data values are shrunk towards a central point, like the mean. Lasso regression performs L1 regularization, which adds a penalty equal to the absolute value of the magnitude of coefficients. This can result in sparse models with few coefficients. Some of the coefficients can become zero and eliminated from the model. Implement this using sklearn with default parameter values and print the $R^2$ score*"
      ],
      "metadata": {
        "id": "TGFMIM1UqaBV"
      }
    },
    {
      "cell_type": "markdown",
      "source": [
        " \\begin{align}\n",
        "\\text{LASSO Regression}\n",
        "\\end{align}\n",
        " \n",
        " \n",
        " \n",
        " \\begin{align}\n",
        "        \\underset{\\beta}{\\operatorname{arg min}}\n",
        "        \\left[\\sum_{i=1}^n \\left( y_i - βo - \\sum_{j=1}^p β_jx_ij  \\right)^2 + λ\\sum_{j=1}^p|β_j|  \\right]\n",
        "    \\end{align}"
      ],
      "metadata": {
        "id": "5KLG8kwzSovn"
      }
    },
    {
      "cell_type": "code",
      "source": [
        "# Write your code here\n",
        "alpha = 1e-3\n",
        "regLa = Lasso(alpha=alpha, max_iter=100, tol=0.01)\n",
        "regLa.fit(X_tr, y_tr)\n",
        "\n",
        "y_pred_lasso_test = regLa.predict(X_ts)\n",
        "rsq_lasso = r2_score(y_ts,y_pred_lasso_test)\n",
        "print(\"RSQ: \",rsq_lasso)"
      ],
      "metadata": {
        "id": "74ofK8tHh92y",
        "colab": {
          "base_uri": "https://localhost:8080/"
        },
        "outputId": "40ab82e2-2fee-421c-951f-0e835c5f1bc0"
      },
      "execution_count": null,
      "outputs": [
        {
          "output_type": "stream",
          "name": "stdout",
          "text": [
            "RSQ:  0.1932085098826353\n"
          ]
        }
      ]
    },
    {
      "cell_type": "markdown",
      "source": [
        ">>**2**\\. **(5 Points)** *Try 10 different values for the regularization parameter Alpha and print the alpha value with corresponding $R^2$ score using cross-validation. Again, give your reasoning for the choices of alpha. If you choose to tune any other hyperparameters of the model then justify your reason for it* \n"
      ],
      "metadata": {
        "id": "8rQQ1FbAqfZk"
      }
    },
    {
      "cell_type": "markdown",
      "source": [
        ">>[Give your reasoning here]\n",
        "Alpha vales were taken in this manner as we want to find a range where $R^2$ values are the highest. Since we are determining highest $R^2$ values, we can take a logspace between 0.0001 to 0.001 and find corresponding values.\n",
        "\n",
        "We tune Max iteration as we want to run the optimisation only a certain number of times, and so that it wont run for too long. We can also mention tolerence so that it checks for the dual gap for every update"
      ],
      "metadata": {
        "id": "pQJAGHZY4EG2"
      }
    },
    {
      "cell_type": "code",
      "source": [
        "# Write your code here\n",
        "Alphas=np.logspace(-4, -3, 10)\n",
        "rsq=list()\n",
        "\n",
        "for i in Alphas:\n",
        "  regLa2=Lasso(alpha = i, max_iter = 100, tol = 0.01)\n",
        "  regLa2.fit(X_tr, y_tr)\n",
        "  y_pred_i = regLa2.predict(X_ts)\n",
        "  rsq_i = r2_score(y_ts, y_pred_i)\n",
        "  rsq.append(rsq_i)\n",
        "  print(\"Alpha value \",i , '\\t RSQ value:',rsq_i)\n",
        "  "
      ],
      "metadata": {
        "id": "bOD9ReOLit8j",
        "colab": {
          "base_uri": "https://localhost:8080/"
        },
        "outputId": "8c0b5141-53e7-4e54-c02d-6045ad360b34"
      },
      "execution_count": null,
      "outputs": [
        {
          "output_type": "stream",
          "name": "stdout",
          "text": [
            "Alpha value  0.0001 \t RSQ value: 0.2937215171265436\n",
            "Alpha value  0.0001291549665014884 \t RSQ value: 0.30707898361681474\n",
            "Alpha value  0.0001668100537200059 \t RSQ value: 0.31294829170600086\n",
            "Alpha value  0.00021544346900318845 \t RSQ value: 0.3173158216615174\n",
            "Alpha value  0.0002782559402207126 \t RSQ value: 0.3196442304028969\n",
            "Alpha value  0.00035938136638046257 \t RSQ value: 0.3181372571178091\n",
            "Alpha value  0.00046415888336127773 \t RSQ value: 0.3072923687231512\n",
            "Alpha value  0.0005994842503189409 \t RSQ value: 0.2844505354754512\n",
            "Alpha value  0.000774263682681127 \t RSQ value: 0.2477490116565578\n",
            "Alpha value  0.001 \t RSQ value: 0.1932085098826353\n"
          ]
        }
      ]
    },
    {
      "cell_type": "markdown",
      "source": [
        ">>**3**\\. **(2 Point)** *Plot a graph for different Alpha values and corresponding R^2 score. Explain the shape of the curve.*"
      ],
      "metadata": {
        "id": "Fq0XbNHguSbR"
      }
    },
    {
      "cell_type": "code",
      "source": [
        "# Write your ocde here\n",
        "rsq = np.array(rsq)\n",
        "plt.semilogx(Alphas, rsq, '--o')\n",
        "plt.grid()\n",
        "plt.xlabel('ALPHA')\n",
        "plt.ylabel('R^2 Value')\n",
        "rsq_max =np.max(rsq)\n",
        "print('The optimal RSQ: %.3f'%rsq_max)"
      ],
      "metadata": {
        "id": "3wiZINHQk8-h",
        "colab": {
          "base_uri": "https://localhost:8080/",
          "height": 300
        },
        "outputId": "98fdd2d7-2b34-4c49-ec1b-3d5858dd7094"
      },
      "execution_count": null,
      "outputs": [
        {
          "output_type": "stream",
          "name": "stdout",
          "text": [
            "The optimal RSQ: 0.320\n"
          ]
        },
        {
          "output_type": "display_data",
          "data": {
            "text/plain": [
              "<Figure size 432x288 with 1 Axes>"
            ],
            "image/png": "[encoded data removed]"
          },
          "metadata": {
            "needs_background": "light"
          }
        }
      ]
    },
    {
      "cell_type": "markdown",
      "source": [
        ">>[Provide your explanation here]\n",
        "\n",
        "As we can see, the RSQ value goes up and then quickly decreases after a certain alpha rate, meaning that we are not able to optimise due to high alpha rate."
      ],
      "metadata": {
        "id": "4s8NtbFd4WVg"
      }
    },
    {
      "cell_type": "markdown",
      "source": [
        ">>**4**\\. **(2 Point)** *Which of the following two methods of Regularization worked better and why?*\n"
      ],
      "metadata": {
        "id": "xdkEoOGbuRNb"
      }
    },
    {
      "cell_type": "markdown",
      "source": [
        ">>[Place your explanantion here]\n",
        "\n",
        "Lasso worked better than ridge as we can see the RSQ value of the later is lesser in comparison to the former. Since Lasso gives a bigger penalty in comparison to the ridge to collinear varaibles, we can eliminate many multicolinear variables and have a more regularised models.\n"
      ],
      "metadata": {
        "id": "867cDX3areuC"
      }
    },
    {
      "cell_type": "markdown",
      "source": [
        "### **Part 3: Logistic Regression (5 Points)**\n",
        "\n",
        "---\n"
      ],
      "metadata": {
        "id": "VhOIkUtKUpDk"
      }
    },
    {
      "cell_type": "markdown",
      "source": [
        "**1. (1 point)** Now let's consider logistic regression. What is the difference betweeen a linear and logistic regression problem? Explain. (You may take the example of the dataset and task used in this assignment to explain how it would look different for a logistic regression problem)"
      ],
      "metadata": {
        "id": "G8i6VvqmpUN4"
      }
    },
    {
      "cell_type": "markdown",
      "source": [
        ">>[Place your answer here]\n",
        "Linear regression is a supervised learning algorithm that helps predict a continous value output while Logistic regression helps predict the classification via a categorical variable.\n",
        "\n",
        "To convert a linear regression task to a logistic regression, we need to convert the Output variable (the dependent variable) to a categorical one. For our dataset we can find what values are positive and which are negative count the total in an observation (row) if we have more positive than we can make the output as 1 else 0."
      ],
      "metadata": {
        "id": "vvwrLflUpXgQ"
      }
    },
    {
      "cell_type": "markdown",
      "source": [
        "**2. (1 point )** Following your answer in the previous question, convert the dataset such that for the same outcome prediction task, a logistic regression is suitable. "
      ],
      "metadata": {
        "id": "Fl7oTpmzpepi"
      }
    },
    {
      "cell_type": "code",
      "execution_count": null,
      "metadata": {
        "id": "Qa-oc14pUevH"
      },
      "outputs": [],
      "source": [
        "# # place your code here\n",
        "X_log1 = X[:][3]\n",
        "X_log2 = X[:][5]\n",
        "\n",
        "X_log = pd.concat([X_log1, X_log2], axis=1)\n",
        "\n",
        "\n",
        "Y_log= Y1>0\n",
        "Y_logMain = []\n",
        "\n",
        "for i in Y_log:\n",
        "    y_temp = False\n",
        "    count = 0\n",
        "    for y in i:\n",
        "        if y == True:\n",
        "            count+=1\n",
        "            \n",
        "    if count>42:\n",
        "        y_temp = True\n",
        "        \n",
        "    Y_logMain.append(y_temp)\n",
        "\n",
        "Y_logMain = np.asarray(Y_logMain)"
      ]
    },
    {
      "cell_type": "markdown",
      "source": [
        "\n",
        "**3. (1 point)** Split this new dataset into training and testing with a 2:1 split. Implement logistic regression. "
      ],
      "metadata": {
        "id": "rK_yMcwjpk8h"
      }
    },
    {
      "cell_type": "code",
      "source": [
        "# Place your code here\n",
        "from sklearn.linear_model import LogisticRegression\n",
        "\n",
        "\n",
        "X_tr_log, X_ts_log, Y_tr_log, Y_ts_log = train_test_split(X_log, Y_logMain, test_size=0.33)\n",
        "\n",
        "logReg = LogisticRegression()\n",
        "logReg.fit(X_tr_log, Y_tr_log)\n",
        "Y_log_pred = logReg.predict(X_ts_log)"
      ],
      "metadata": {
        "id": "-sAn66mYpn6S"
      },
      "execution_count": null,
      "outputs": []
    },
    {
      "cell_type": "markdown",
      "source": [
        "**4. (2 point)** Report the performance of the model on the test data using accuracy. Also plot the confusion matrix and ROC-AUC curve. What can you infer from this confusion matrix? Also can you compare the logistic and linear regressions?"
      ],
      "metadata": {
        "id": "sjlQWqtkpq5b"
      }
    },
    {
      "cell_type": "code",
      "source": [
        "# Place your code here\n",
        "from sklearn.metrics import plot_confusion_matrix\n",
        "\n",
        "y_pred_proba = logReg.predict_proba(X_ts_log)[::,1]\n",
        "fpr, tpr, _ = metrics.roc_curve(Y_ts_log,  y_pred_proba)\n",
        "\n",
        "auc = metrics.roc_auc_score(Y_ts_log, y_pred_proba)\n",
        "plt.plot(fpr,tpr)\n",
        "plt.title(label=\"Logistic Regression, auc=\"+str(auc))\n",
        "plt.xlabel(\"False Pos\")\n",
        "plt.ylabel(\"True Pos\")\n",
        "plt.show()\n",
        "\n",
        "\n",
        "plot_confusion_matrix(logReg, X_ts_log, Y_ts_log)"
      ],
      "metadata": {
        "id": "K-qivTOXpu4a",
        "colab": {
          "base_uri": "https://localhost:8080/",
          "height": 629
        },
        "outputId": "c27e520f-418e-45b0-a263-5566c518886c"
      },
      "execution_count": null,
      "outputs": [
        {
          "output_type": "display_data",
          "data": {
            "text/plain": [
              "<Figure size 432x288 with 1 Axes>"
            ],
            "image/png": "[encoded data removed]"
          },
          "metadata": {
            "needs_background": "light"
          }
        },
        {
          "output_type": "stream",
          "name": "stderr",
          "text": [
            "/usr/local/lib/python3.7/dist-packages/sklearn/utils/deprecation.py:87: FutureWarning: Function plot_confusion_matrix is deprecated; Function `plot_confusion_matrix` is deprecated in 1.0 and will be removed in 1.2. Use one of the class methods: ConfusionMatrixDisplay.from_predictions or ConfusionMatrixDisplay.from_estimator.\n",
            "  warnings.warn(msg, category=FutureWarning)\n"
          ]
        },
        {
          "output_type": "execute_result",
          "data": {
            "text/plain": [
              "<sklearn.metrics._plot.confusion_matrix.ConfusionMatrixDisplay at 0x7fb25369a310>"
            ]
          },
          "metadata": {},
          "execution_count": 227
        },
        {
          "output_type": "display_data",
          "data": {
            "text/plain": [
              "<Figure size 432x288 with 2 Axes>"
            ],
            "image/png": "[encoded data removed]"
          },
          "metadata": {
            "needs_background": "light"
          }
        }
      ]
    },
    {
      "cell_type": "markdown",
      "source": [
        ">>[ Place your explanation here ]\n",
        "We can compare logistics with linear regression in the sense as they are two different tasks, achieving two different outcomes. One is achieving the classification of true or false and the other is predicting the value \n",
        "\n",
        "The confusion matrix displays this tradeoff by graphing the true positive rate vs. the false positive rate obtained."
      ],
      "metadata": {
        "id": "K2faqHxyrolD"
      }
    }
  ]
}